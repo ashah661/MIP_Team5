{
 "cells": [
  {
   "cell_type": "code",
   "execution_count": 1,
   "id": "a8da7bd5-e38b-42aa-af52-46e2560f6f48",
   "metadata": {
    "tags": []
   },
   "outputs": [
    {
     "name": "stderr",
     "output_type": "stream",
     "text": [
      "2023-04-20 20:37:39.393994: I tensorflow/core/platform/cpu_feature_guard.cc:182] This TensorFlow binary is optimized to use available CPU instructions in performance-critical operations.\n",
      "To enable the following instructions: AVX2 FMA, in other operations, rebuild TensorFlow with the appropriate compiler flags.\n",
      "2023-04-20 20:37:40.620128: W tensorflow/compiler/tf2tensorrt/utils/py_utils.cc:38] TF-TRT Warning: Could not find TensorRT\n"
     ]
    }
   ],
   "source": [
    "import os\n",
    "import numpy as np\n",
    "import pandas as pd\n",
    "import matplotlib.pyplot as plt\n",
    "\n",
    "import cv2\n",
    "\n",
    "import torchvision\n",
    "import torch\n",
    "from torch.utils.data import Dataset\n",
    "from torch.utils.data import DataLoader\n",
    "import torchvision.transforms as transforms\n",
    "from torchvision import datasets\n",
    "from torchvision.transforms import ToTensor\n",
    "from torchvision.io import read_image\n",
    "import tensorflow as tf"
   ]
  },
  {
   "cell_type": "code",
   "execution_count": 2,
   "id": "0de11d51-2916-469d-83b2-acf46c5f89e7",
   "metadata": {
    "tags": []
   },
   "outputs": [],
   "source": [
    "torch.cuda.set_device(1)\n",
    "device = torch.cuda.current_device()"
   ]
  },
  {
   "cell_type": "code",
   "execution_count": 3,
   "id": "cae0dfbb-718e-43e9-a0c5-f534eff2dedf",
   "metadata": {
    "tags": []
   },
   "outputs": [],
   "source": [
    "class CustomImageDataset(Dataset):\n",
    "    def __init__(self, csv_file, img_dir, transform=None, target_transform=None):\n",
    "        self.img_labels = pd.read_csv(csv_file)\n",
    "        self.img_dir = img_dir\n",
    "        self.transform = transform\n",
    "        self.target_transform = target_transform\n",
    "\n",
    "    def __len__(self):\n",
    "        return len(self.img_labels)\n",
    "\n",
    "    def __getitem__(self, idx):\n",
    "        img_path = os.path.join(self.img_dir, self.img_labels.iloc[idx, 0]+'.jpg')\n",
    "        #print(os.path.isdir(self.img_dir))\n",
    "        #print(os.listdir(self.img_dir))\n",
    "        image = read_image(img_path)/255.\n",
    "        label = self.img_labels.iloc[idx, 1]\n",
    "        if self.transform:\n",
    "            image = self.transform(image)\n",
    "        if self.target_transform:\n",
    "            label = self.target_transform(label)\n",
    "        return image, label"
   ]
  },
  {
   "cell_type": "code",
   "execution_count": 4,
   "id": "aa4a90a3-6353-4714-9641-ff0dd1818635",
   "metadata": {
    "tags": []
   },
   "outputs": [],
   "source": [
    "idrid_train = CustomImageDataset(csv_file='IDRiD/train.csv',\n",
    "                             img_dir='IDRiD/B. Disease Grading/1. Original Images/a. Training Set',\n",
    "                             transform=transforms.Compose([transforms.ToPILImage(),\n",
    "                                                           transforms.RandomHorizontalFlip(p=0.5),\n",
    "                                                           transforms.RandomVerticalFlip(p=0.3),\n",
    "                                                           transforms.ColorJitter(brightness=0.1,\n",
    "                                                                                  contrast=0.1,\n",
    "                                                                                  saturation=0.01,\n",
    "                                                                                  hue=0.01),\n",
    "                                                           transforms.ToTensor(),\n",
    "                                                           \n",
    "                                                           transforms.Resize((512,512)),\n",
    "                                                           \n",
    "                                                          ])\n",
    "                            )\n",
    "idrid_val = CustomImageDataset(csv_file='IDRiD/val.csv',\n",
    "                             img_dir='IDRiD/B. Disease Grading/1. Original Images/a. Training Set',\n",
    "                             transform=transforms.Compose([transforms.ToPILImage(),\n",
    "                                                           transforms.ToTensor(),\n",
    "                                                           \n",
    "                                                           transforms.Resize((512,512))\n",
    "                                                          ])\n",
    "                            )\n",
    "idrid_test = CustomImageDataset(csv_file='IDRiD/B. Disease Grading/2. Groundtruths/b. IDRiD_Disease Grading_Testing Labels.csv',\n",
    "                             img_dir='IDRiD/B. Disease Grading/1. Original Images/b. Testing Set',\n",
    "                             transform=transforms.Compose([transforms.ToPILImage(),\n",
    "                                                           transforms.ToTensor(),\n",
    "                                                           \n",
    "                                                           transforms.Resize((512,512))\n",
    "                                                          ])\n",
    "                            )"
   ]
  },
  {
   "cell_type": "code",
   "execution_count": 5,
   "id": "dfb6904b-ecfd-41b5-ba8d-2181c7231691",
   "metadata": {
    "tags": []
   },
   "outputs": [],
   "source": [
    "batch_size=32\n",
    "train_dataloader = DataLoader(idrid_train, batch_size=batch_size, shuffle=True)\n",
    "val_dataloader = DataLoader(idrid_val, batch_size=batch_size, shuffle=True)\n",
    "test_dataloader = DataLoader(idrid_test, batch_size=batch_size, shuffle=True)"
   ]
  },
  {
   "cell_type": "markdown",
   "id": "a31979a3-c879-42c1-b928-e90c46d13b41",
   "metadata": {},
   "source": [
    "# MODEL DEFINITION"
   ]
  },
  {
   "cell_type": "code",
   "execution_count": 6,
   "id": "b62371c9-56fa-4db2-a28f-bd5860ed1a06",
   "metadata": {
    "tags": []
   },
   "outputs": [],
   "source": [
    "nSamples = [107, 16, 109, 59, 39]\n",
    "norm_weights = [1 - (x / sum(nSamples)) for x in nSamples]\n",
    "model_weights = torch.tensor(norm_weights)"
   ]
  },
  {
   "cell_type": "code",
   "execution_count": 7,
   "id": "3cc170f6-142c-44a3-9deb-6b7e6237dc40",
   "metadata": {
    "tags": []
   },
   "outputs": [
    {
     "name": "stderr",
     "output_type": "stream",
     "text": [
      "/home/mainuser/.local/lib/python3.8/site-packages/torchvision/models/_utils.py:208: UserWarning: The parameter 'pretrained' is deprecated since 0.13 and may be removed in the future, please use 'weights' instead.\n",
      "  warnings.warn(\n",
      "/home/mainuser/.local/lib/python3.8/site-packages/torchvision/models/_utils.py:223: UserWarning: Arguments other than a weight enum or `None` for 'weights' are deprecated since 0.13 and may be removed in the future. The current behavior is equivalent to passing `weights=Inception_V3_Weights.IMAGENET1K_V1`. You can also use `weights=Inception_V3_Weights.DEFAULT` to get the most up-to-date weights.\n",
      "  warnings.warn(msg)\n"
     ]
    }
   ],
   "source": [
    "import torch.nn as nn\n",
    "import torch.optim as optim\n",
    "import torchvision.models as models\n",
    "\n",
    "class TransferInceptionV3(nn.Module):\n",
    "    def __init__(self, num_classes=5, dropout=0.5):\n",
    "        super(TransferInceptionV3, self).__init__()\n",
    "        self.features = models.inception_v3(pretrained=True)\n",
    "        self.features.aux_logits = False \n",
    "        for param in self.features.parameters():\n",
    "            param.requires_grad = True\n",
    "        self.fc1 = nn.Linear(1000, 256)\n",
    "        self.fc2 = nn.Linear(256,64)\n",
    "        self.fc3 = nn.Linear(64, num_classes)\n",
    "        self.dropout = nn.Dropout(p=dropout)\n",
    "        self.leaky_relu = nn.LeakyReLU(inplace=True)\n",
    "        \n",
    "    def forward(self, x):\n",
    "        x = self.features(x)\n",
    "        #x = x.logits\n",
    "        #x = x.view(x.size(0), -1)\n",
    "        #print(x.shape)\n",
    "        x = self.dropout(self.leaky_relu(self.fc1(x)))\n",
    "        x = self.dropout(self.leaky_relu(self.fc2(x)))\n",
    "        x = self.fc3(x)\n",
    "        return x\n",
    "\n",
    "\n",
    "model = TransferInceptionV3()\n",
    "model.load_state_dict(torch.load('idrid_best_scratch_weighted.pt'))\n",
    "model = model.to(torch.cuda.current_device())\n",
    "#Weighted\n",
    "criterion = nn.CrossEntropyLoss(weight=model_weights.to(torch.cuda.current_device()))\n",
    "# optimizer = optim.Adam(model.parameters(), lr=0.001)\n",
    "# optimizer = optim.RMSprop(model.parameters(), lr=0.001)\n",
    "optimizer = optim.SGD(model.parameters(), lr=0.001)\n"
   ]
  },
  {
   "cell_type": "code",
   "execution_count": 8,
   "id": "d1164992-9748-4682-bb3d-4aad92b79024",
   "metadata": {
    "collapsed": true,
    "jupyter": {
     "outputs_hidden": true
    },
    "tags": []
   },
   "outputs": [
    {
     "name": "stderr",
     "output_type": "stream",
     "text": [
      "/home/mainuser/.local/lib/python3.8/site-packages/torchvision/transforms/functional.py:1603: UserWarning: The default value of the antialias parameter of all the resizing transforms (Resize(), RandomResizedCrop(), etc.) will change from None to True in v0.17, in order to be consistent across the PIL and Tensor backends. To suppress this warning, directly pass antialias=True (recommended, future default), antialias=None (current default, which means False for Tensors and True for PIL), or antialias=False (only works on Tensors - PIL will still use antialiasing). This also applies if you are using the inference transforms from the models weights: update the call to weights.transforms(antialias=True).\n",
      "  warnings.warn(\n"
     ]
    },
    {
     "name": "stdout",
     "output_type": "stream",
     "text": [
      "tensor(1.0189, device='cuda:1', grad_fn=<NllLossBackward0>)\n",
      "tensor(0.6434, device='cuda:1', grad_fn=<NllLossBackward0>)\n",
      "tensor(0.6980, device='cuda:1', grad_fn=<NllLossBackward0>)\n",
      "tensor(0.6933, device='cuda:1', grad_fn=<NllLossBackward0>)\n",
      "tensor(0.7007, device='cuda:1', grad_fn=<NllLossBackward0>)\n",
      "tensor(0.7229, device='cuda:1', grad_fn=<NllLossBackward0>)\n",
      "tensor(1.1749, device='cuda:1', grad_fn=<NllLossBackward0>)\n",
      "tensor(0.6942, device='cuda:1', grad_fn=<NllLossBackward0>)\n",
      "tensor(0.8503, device='cuda:1', grad_fn=<NllLossBackward0>)\n",
      "tensor(1.0381, device='cuda:1', grad_fn=<NllLossBackward0>)\n",
      "tensor(0.7203, device='cuda:1', grad_fn=<NllLossBackward0>)\n",
      "VALIDATING\n",
      "tensor(0.7151, device='cuda:1')\n",
      "tensor(24, device='cuda:1')\n",
      "tensor(0.8127, device='cuda:1')\n",
      "tensor(22, device='cuda:1')\n",
      "tensor(0.9355, device='cuda:1')\n",
      "tensor(11, device='cuda:1')\n",
      "Epoch 1/10: Train Loss = 0.8204, Val Loss = 0.8032\n",
      "Updating best model...\n",
      "Epoch took 8.0 minutes\n",
      "tensor(0.7900, device='cuda:1', grad_fn=<NllLossBackward0>)\n",
      "tensor(0.7461, device='cuda:1', grad_fn=<NllLossBackward0>)\n",
      "tensor(0.9654, device='cuda:1', grad_fn=<NllLossBackward0>)\n",
      "tensor(0.7792, device='cuda:1', grad_fn=<NllLossBackward0>)\n",
      "tensor(0.7824, device='cuda:1', grad_fn=<NllLossBackward0>)\n",
      "tensor(1.0568, device='cuda:1', grad_fn=<NllLossBackward0>)\n",
      "tensor(0.5825, device='cuda:1', grad_fn=<NllLossBackward0>)\n",
      "tensor(0.8758, device='cuda:1', grad_fn=<NllLossBackward0>)\n",
      "tensor(0.5902, device='cuda:1', grad_fn=<NllLossBackward0>)\n",
      "tensor(0.6512, device='cuda:1', grad_fn=<NllLossBackward0>)\n",
      "tensor(0.9770, device='cuda:1', grad_fn=<NllLossBackward0>)\n",
      "VALIDATING\n",
      "tensor(0.8998, device='cuda:1')\n",
      "tensor(19, device='cuda:1')\n",
      "tensor(0.8796, device='cuda:1')\n",
      "tensor(23, device='cuda:1')\n",
      "tensor(0.5059, device='cuda:1')\n",
      "tensor(15, device='cuda:1')\n",
      "Epoch 2/10: Train Loss = 0.7879, Val Loss = 0.8018\n",
      "Updating best model...\n",
      "Epoch took 8.0 minutes\n",
      "tensor(0.8948, device='cuda:1', grad_fn=<NllLossBackward0>)\n",
      "tensor(0.5975, device='cuda:1', grad_fn=<NllLossBackward0>)\n",
      "tensor(0.5903, device='cuda:1', grad_fn=<NllLossBackward0>)\n",
      "tensor(0.5484, device='cuda:1', grad_fn=<NllLossBackward0>)\n",
      "tensor(0.6908, device='cuda:1', grad_fn=<NllLossBackward0>)\n",
      "tensor(0.7730, device='cuda:1', grad_fn=<NllLossBackward0>)\n",
      "tensor(0.8206, device='cuda:1', grad_fn=<NllLossBackward0>)\n",
      "tensor(0.8956, device='cuda:1', grad_fn=<NllLossBackward0>)\n",
      "tensor(0.8230, device='cuda:1', grad_fn=<NllLossBackward0>)\n",
      "tensor(0.9837, device='cuda:1', grad_fn=<NllLossBackward0>)\n",
      "tensor(0.4522, device='cuda:1', grad_fn=<NllLossBackward0>)\n",
      "VALIDATING\n",
      "tensor(0.8462, device='cuda:1')\n",
      "tensor(19, device='cuda:1')\n",
      "tensor(0.7107, device='cuda:1')\n",
      "tensor(24, device='cuda:1')\n",
      "tensor(0.9388, device='cuda:1')\n",
      "tensor(12, device='cuda:1')\n",
      "Epoch 3/10: Train Loss = 0.7524, Val Loss = 0.8152\n",
      "Epoch took 8.0 minutes\n",
      "tensor(0.9028, device='cuda:1', grad_fn=<NllLossBackward0>)\n",
      "tensor(0.5916, device='cuda:1', grad_fn=<NllLossBackward0>)\n",
      "tensor(0.8931, device='cuda:1', grad_fn=<NllLossBackward0>)\n",
      "tensor(0.8379, device='cuda:1', grad_fn=<NllLossBackward0>)\n",
      "tensor(0.7977, device='cuda:1', grad_fn=<NllLossBackward0>)\n",
      "tensor(0.5621, device='cuda:1', grad_fn=<NllLossBackward0>)\n",
      "tensor(0.6892, device='cuda:1', grad_fn=<NllLossBackward0>)\n",
      "tensor(0.7413, device='cuda:1', grad_fn=<NllLossBackward0>)\n",
      "tensor(0.7008, device='cuda:1', grad_fn=<NllLossBackward0>)\n",
      "tensor(0.8200, device='cuda:1', grad_fn=<NllLossBackward0>)\n",
      "tensor(0.6045, device='cuda:1', grad_fn=<NllLossBackward0>)\n",
      "VALIDATING\n",
      "tensor(0.9610, device='cuda:1')\n",
      "tensor(18, device='cuda:1')\n",
      "tensor(0.8105, device='cuda:1')\n",
      "tensor(21, device='cuda:1')\n",
      "tensor(0.5605, device='cuda:1')\n",
      "tensor(16, device='cuda:1')\n",
      "Epoch 4/10: Train Loss = 0.7491, Val Loss = 0.8113\n",
      "Epoch took 8.0 minutes\n",
      "tensor(0.6842, device='cuda:1', grad_fn=<NllLossBackward0>)\n",
      "tensor(0.9045, device='cuda:1', grad_fn=<NllLossBackward0>)\n",
      "tensor(0.5777, device='cuda:1', grad_fn=<NllLossBackward0>)\n",
      "tensor(1.1213, device='cuda:1', grad_fn=<NllLossBackward0>)\n",
      "tensor(0.6172, device='cuda:1', grad_fn=<NllLossBackward0>)\n",
      "tensor(0.7572, device='cuda:1', grad_fn=<NllLossBackward0>)\n",
      "tensor(0.8768, device='cuda:1', grad_fn=<NllLossBackward0>)\n",
      "tensor(0.6946, device='cuda:1', grad_fn=<NllLossBackward0>)\n",
      "tensor(0.6671, device='cuda:1', grad_fn=<NllLossBackward0>)\n",
      "tensor(0.5929, device='cuda:1', grad_fn=<NllLossBackward0>)\n",
      "tensor(0.7096, device='cuda:1', grad_fn=<NllLossBackward0>)\n",
      "VALIDATING\n",
      "tensor(0.7544, device='cuda:1')\n",
      "tensor(18, device='cuda:1')\n",
      "tensor(0.9239, device='cuda:1')\n",
      "tensor(20, device='cuda:1')\n",
      "tensor(0.7619, device='cuda:1')\n",
      "tensor(13, device='cuda:1')\n",
      "Epoch 5/10: Train Loss = 0.7481, Val Loss = 0.8214\n",
      "Epoch took 8.0 minutes\n",
      "tensor(0.7062, device='cuda:1', grad_fn=<NllLossBackward0>)\n",
      "tensor(0.9711, device='cuda:1', grad_fn=<NllLossBackward0>)\n",
      "tensor(0.7028, device='cuda:1', grad_fn=<NllLossBackward0>)\n",
      "tensor(0.5675, device='cuda:1', grad_fn=<NllLossBackward0>)\n",
      "tensor(0.7526, device='cuda:1', grad_fn=<NllLossBackward0>)\n",
      "tensor(0.8837, device='cuda:1', grad_fn=<NllLossBackward0>)\n",
      "tensor(0.7897, device='cuda:1', grad_fn=<NllLossBackward0>)\n",
      "tensor(0.5227, device='cuda:1', grad_fn=<NllLossBackward0>)\n",
      "tensor(0.4851, device='cuda:1', grad_fn=<NllLossBackward0>)\n",
      "tensor(0.7385, device='cuda:1', grad_fn=<NllLossBackward0>)\n",
      "tensor(0.6753, device='cuda:1', grad_fn=<NllLossBackward0>)\n",
      "VALIDATING\n",
      "tensor(0.8516, device='cuda:1')\n",
      "tensor(20, device='cuda:1')\n",
      "tensor(0.8332, device='cuda:1')\n",
      "tensor(21, device='cuda:1')\n",
      "tensor(0.7243, device='cuda:1')\n",
      "tensor(12, device='cuda:1')\n",
      "Epoch 6/10: Train Loss = 0.7109, Val Loss = 0.8154\n",
      "Epoch took 8.0 minutes\n",
      "tensor(0.5324, device='cuda:1', grad_fn=<NllLossBackward0>)\n",
      "tensor(0.6408, device='cuda:1', grad_fn=<NllLossBackward0>)\n",
      "tensor(0.6299, device='cuda:1', grad_fn=<NllLossBackward0>)\n",
      "tensor(0.9036, device='cuda:1', grad_fn=<NllLossBackward0>)\n",
      "tensor(0.8461, device='cuda:1', grad_fn=<NllLossBackward0>)\n",
      "tensor(0.6418, device='cuda:1', grad_fn=<NllLossBackward0>)\n",
      "tensor(0.7170, device='cuda:1', grad_fn=<NllLossBackward0>)\n",
      "tensor(0.6068, device='cuda:1', grad_fn=<NllLossBackward0>)\n",
      "tensor(0.7131, device='cuda:1', grad_fn=<NllLossBackward0>)\n",
      "tensor(0.7699, device='cuda:1', grad_fn=<NllLossBackward0>)\n",
      "tensor(0.6086, device='cuda:1', grad_fn=<NllLossBackward0>)\n",
      "VALIDATING\n",
      "tensor(1.0052, device='cuda:1')\n",
      "tensor(18, device='cuda:1')\n",
      "tensor(0.7664, device='cuda:1')\n",
      "tensor(21, device='cuda:1')\n",
      "tensor(0.5421, device='cuda:1')\n",
      "tensor(16, device='cuda:1')\n",
      "Epoch 7/10: Train Loss = 0.6974, Val Loss = 0.8072\n",
      "Epoch took 8.0 minutes\n",
      "tensor(1.3352, device='cuda:1', grad_fn=<NllLossBackward0>)\n",
      "tensor(0.6299, device='cuda:1', grad_fn=<NllLossBackward0>)\n",
      "tensor(0.6319, device='cuda:1', grad_fn=<NllLossBackward0>)\n",
      "tensor(0.6648, device='cuda:1', grad_fn=<NllLossBackward0>)\n",
      "tensor(0.7589, device='cuda:1', grad_fn=<NllLossBackward0>)\n",
      "tensor(0.7706, device='cuda:1', grad_fn=<NllLossBackward0>)\n",
      "tensor(0.7996, device='cuda:1', grad_fn=<NllLossBackward0>)\n",
      "tensor(0.7635, device='cuda:1', grad_fn=<NllLossBackward0>)\n",
      "tensor(0.5457, device='cuda:1', grad_fn=<NllLossBackward0>)\n",
      "tensor(0.6677, device='cuda:1', grad_fn=<NllLossBackward0>)\n",
      "tensor(1.0000, device='cuda:1', grad_fn=<NllLossBackward0>)\n",
      "VALIDATING\n",
      "tensor(0.7837, device='cuda:1')\n",
      "tensor(19, device='cuda:1')\n",
      "tensor(0.9069, device='cuda:1')\n",
      "tensor(20, device='cuda:1')\n",
      "tensor(0.7257, device='cuda:1')\n",
      "tensor(13, device='cuda:1')\n",
      "Epoch 8/10: Train Loss = 0.7642, Val Loss = 0.8179\n",
      "Epoch took 8.0 minutes\n",
      "tensor(0.7605, device='cuda:1', grad_fn=<NllLossBackward0>)\n",
      "tensor(0.7882, device='cuda:1', grad_fn=<NllLossBackward0>)\n",
      "tensor(0.7981, device='cuda:1', grad_fn=<NllLossBackward0>)\n",
      "tensor(0.5816, device='cuda:1', grad_fn=<NllLossBackward0>)\n",
      "tensor(1.1572, device='cuda:1', grad_fn=<NllLossBackward0>)\n",
      "tensor(0.6993, device='cuda:1', grad_fn=<NllLossBackward0>)\n",
      "tensor(0.4952, device='cuda:1', grad_fn=<NllLossBackward0>)\n",
      "tensor(0.7866, device='cuda:1', grad_fn=<NllLossBackward0>)\n",
      "tensor(0.7394, device='cuda:1', grad_fn=<NllLossBackward0>)\n",
      "tensor(0.7657, device='cuda:1', grad_fn=<NllLossBackward0>)\n",
      "tensor(0.6397, device='cuda:1', grad_fn=<NllLossBackward0>)\n",
      "VALIDATING\n",
      "tensor(0.8430, device='cuda:1')\n",
      "tensor(21, device='cuda:1')\n",
      "tensor(0.8964, device='cuda:1')\n",
      "tensor(21, device='cuda:1')\n",
      "tensor(0.6880, device='cuda:1')\n",
      "tensor(14, device='cuda:1')\n",
      "Epoch 9/10: Train Loss = 0.7536, Val Loss = 0.8281\n",
      "Epoch took 8.0 minutes\n",
      "tensor(0.9776, device='cuda:1', grad_fn=<NllLossBackward0>)\n",
      "tensor(0.7867, device='cuda:1', grad_fn=<NllLossBackward0>)\n",
      "tensor(0.7027, device='cuda:1', grad_fn=<NllLossBackward0>)\n",
      "tensor(0.5603, device='cuda:1', grad_fn=<NllLossBackward0>)\n",
      "tensor(0.8005, device='cuda:1', grad_fn=<NllLossBackward0>)\n",
      "tensor(0.9327, device='cuda:1', grad_fn=<NllLossBackward0>)\n",
      "tensor(0.7328, device='cuda:1', grad_fn=<NllLossBackward0>)\n",
      "tensor(0.5221, device='cuda:1', grad_fn=<NllLossBackward0>)\n",
      "tensor(0.6918, device='cuda:1', grad_fn=<NllLossBackward0>)\n",
      "tensor(0.6569, device='cuda:1', grad_fn=<NllLossBackward0>)\n",
      "tensor(2.0999, device='cuda:1', grad_fn=<NllLossBackward0>)\n",
      "VALIDATING\n",
      "tensor(0.9911, device='cuda:1')\n",
      "tensor(20, device='cuda:1')\n",
      "tensor(0.7460, device='cuda:1')\n",
      "tensor(22, device='cuda:1')\n",
      "tensor(0.7061, device='cuda:1')\n",
      "tensor(13, device='cuda:1')\n",
      "Epoch 10/10: Train Loss = 0.7777, Val Loss = 0.8313\n",
      "Epoch took 8.0 minutes\n"
     ]
    }
   ],
   "source": [
    "import timeit\n",
    "# Train the model\n",
    "num_epochs = 10\n",
    "\n",
    "best_val_loss = float('inf')\n",
    "All_train_loss = []\n",
    "All_val_loss = []\n",
    "\n",
    "for epoch in range(num_epochs):\n",
    "    start_time = timeit.default_timer()\n",
    "    \n",
    "    # Train the model on the training set\n",
    "    total_train_loss = 0\n",
    "    model.train()\n",
    "    for images, labels in train_dataloader:\n",
    "        images = images.to(device)\n",
    "        labels = labels.to(device)\n",
    "        # Zero the parameter gradients\n",
    "        optimizer.zero_grad()\n",
    "        \n",
    "        # Forward pass\n",
    "        #take argmax of the logits before computing the loss?\n",
    "        outputs = model(images)\n",
    "        #logits = outputs.logits\n",
    "        loss = criterion(outputs, labels)\n",
    "        total_train_loss += loss * images.shape[0]\n",
    "        print(loss)\n",
    "        # Backward and optimize\n",
    "        loss.backward()\n",
    "        optimizer.step()\n",
    "    \n",
    "    # Evaluate the model on the validation set\n",
    "    print(\"VALIDATING\")\n",
    "    model.eval()\n",
    "    with torch.no_grad():\n",
    "        total_val_loss = 0.0\n",
    "        correct = 0\n",
    "        total = 0\n",
    "        for images, labels in val_dataloader:\n",
    "            images = images.to(device)\n",
    "            labels = labels.to(device)\n",
    "            outputs = model(images)\n",
    "            #logits = outputs.logits\n",
    "            #take argmax of the logits before computing the loss \n",
    "            #outputs = outputs.softmax(dim=1)\n",
    "            val_loss = criterion(outputs, labels)\n",
    "            print(val_loss)\n",
    "            total_val_loss += val_loss.item() * images.shape[0]\n",
    "            #take argmax of the logits before computing the loss \n",
    "            predicted = torch.argmax(outputs, 1) #did torch.argmax instead of torch.max\n",
    "            total += labels.size(0)\n",
    "            print((predicted == labels).sum())\n",
    "            correct += (predicted == labels).sum()\n",
    "    avg_train_loss = total_train_loss/330\n",
    "    avg_val_loss = total_val_loss/83\n",
    "    print(f\"Epoch {epoch+1}/{num_epochs}: Train Loss = {avg_train_loss:.4f}, Val Loss = {avg_val_loss:.4f}\")\n",
    "    All_train_loss.append(avg_train_loss.cpu())\n",
    "    All_val_loss.append(avg_val_loss)\n",
    "    \n",
    "    if avg_val_loss < best_val_loss:\n",
    "        best_val_loss = avg_val_loss\n",
    "        print(\"Updating best model...\")\n",
    "        torch.save(model.state_dict(), 'idrid_best_sgd.pt')\n",
    "    \n",
    "    elapsed = timeit.default_timer() - start_time\n",
    "    print(\"Epoch took\", str(elapsed//60), \"minutes\")\n",
    "        \n",
    "\n",
    "torch.save(model.state_dict(), 'idrid_last_sgd.pt')"
   ]
  },
  {
   "cell_type": "code",
   "execution_count": 9,
   "id": "600e4fc6-4349-4657-b57c-3b0dc2cdcb1c",
   "metadata": {
    "tags": []
   },
   "outputs": [],
   "source": [
    "#print(All_val_loss)\n",
    "All_val_loss = list(All_val_loss)\n",
    "All_train_loss = list(All_train_loss)\n",
    "with open(\"sgd_idrid_train_loss.txt\", 'w') as f:\n",
    "    for val in All_train_loss:\n",
    "        v = val.detach().numpy()\n",
    "        f.write(str(v))\n",
    "        f.write(\"\\n\")\n",
    "        \n",
    "with open(\"sgd_idrid_val_loss.txt\", 'w') as f:\n",
    "    for val in All_val_loss:\n",
    "        \n",
    "        v = val\n",
    "        f.write(str(v))\n",
    "        f.write(\"\\n\")"
   ]
  },
  {
   "cell_type": "code",
   "execution_count": 10,
   "id": "45f4cb49-168f-4d34-a57e-fab51f319b78",
   "metadata": {
    "tags": []
   },
   "outputs": [
    {
     "name": "stderr",
     "output_type": "stream",
     "text": [
      "/home/mainuser/.local/lib/python3.8/site-packages/torchvision/transforms/functional.py:1603: UserWarning: The default value of the antialias parameter of all the resizing transforms (Resize(), RandomResizedCrop(), etc.) will change from None to True in v0.17, in order to be consistent across the PIL and Tensor backends. To suppress this warning, directly pass antialias=True (recommended, future default), antialias=None (current default, which means False for Tensors and True for PIL), or antialias=False (only works on Tensors - PIL will still use antialiasing). This also applies if you are using the inference transforms from the models weights: update the call to weights.transforms(antialias=True).\n",
      "  warnings.warn(\n"
     ]
    },
    {
     "name": "stdout",
     "output_type": "stream",
     "text": [
      "Test Accuracy: 0.5437\n",
      "Test F1 Score: 0.5212\n",
      "kappa score: 0.377283\n"
     ]
    }
   ],
   "source": [
    "### Testing             \n",
    "from sklearn.metrics import accuracy_score, f1_score, cohen_kappa_score\n",
    "\n",
    "#model = TransferInceptionV3()\n",
    "#model.load_state_dict(torch.load('idrid_best_adam.pt'))\n",
    "#model = model.to(torch.cuda.current_device())\n",
    "\n",
    "# Evaluate the model on the test set\n",
    "model.eval()\n",
    "with torch.no_grad():\n",
    "    y_true = []\n",
    "    y_pred = []\n",
    "    for images, labels in test_dataloader:\n",
    "        images = images.to(device)\n",
    "        labels = labels.to(device)\n",
    "        outputs = model(images)\n",
    "        predicted = torch.argmax(outputs, 1)\n",
    "        y_true.extend(labels.cpu())\n",
    "        y_pred.extend(predicted.cpu())\n",
    "\n",
    "# Compute the accuracy and F1 score\n",
    "accuracy = accuracy_score(y_true, y_pred)\n",
    "f1 = f1_score(y_true, y_pred, average='weighted')\n",
    "kappa = cohen_kappa_score(y_true, y_pred)\n",
    "\n",
    "print(f'Test Accuracy: {accuracy:.4f}')\n",
    "print(f'Test F1 Score: {f1:.4f}')\n",
    "\n",
    "print(f'kappa score: {kappa:4f}')"
   ]
  },
  {
   "cell_type": "code",
   "execution_count": 11,
   "id": "0d4aa590-0829-4488-8aaf-ff9c400b029e",
   "metadata": {
    "tags": []
   },
   "outputs": [
    {
     "name": "stdout",
     "output_type": "stream",
     "text": [
      "[[28  0  6  0  0]\n",
      " [ 3  0  2  0  0]\n",
      " [ 6  0 13 11  2]\n",
      " [ 2  0  2 11  4]\n",
      " [ 1  0  3  5  4]]\n",
      "              precision    recall  f1-score   support\n",
      "\n",
      "           0      0.700     0.824     0.757        34\n",
      "           1      0.000     0.000     0.000         5\n",
      "           2      0.500     0.406     0.448        32\n",
      "           3      0.407     0.579     0.478        19\n",
      "           4      0.400     0.308     0.348        13\n",
      "\n",
      "    accuracy                          0.544       103\n",
      "   macro avg      0.401     0.423     0.406       103\n",
      "weighted avg      0.512     0.544     0.521       103\n",
      "\n"
     ]
    },
    {
     "name": "stderr",
     "output_type": "stream",
     "text": [
      "/home/mainuser/.local/lib/python3.8/site-packages/sklearn/metrics/_classification.py:1344: UndefinedMetricWarning: Precision and F-score are ill-defined and being set to 0.0 in labels with no predicted samples. Use `zero_division` parameter to control this behavior.\n",
      "  _warn_prf(average, modifier, msg_start, len(result))\n",
      "/home/mainuser/.local/lib/python3.8/site-packages/sklearn/metrics/_classification.py:1344: UndefinedMetricWarning: Precision and F-score are ill-defined and being set to 0.0 in labels with no predicted samples. Use `zero_division` parameter to control this behavior.\n",
      "  _warn_prf(average, modifier, msg_start, len(result))\n",
      "/home/mainuser/.local/lib/python3.8/site-packages/sklearn/metrics/_classification.py:1344: UndefinedMetricWarning: Precision and F-score are ill-defined and being set to 0.0 in labels with no predicted samples. Use `zero_division` parameter to control this behavior.\n",
      "  _warn_prf(average, modifier, msg_start, len(result))\n"
     ]
    }
   ],
   "source": [
    "from sklearn import metrics\n",
    "# Print the confusion matrix\n",
    "print(metrics.confusion_matrix(y_true, y_pred))\n",
    "\n",
    "# Print the precision and recall, among other metrics\n",
    "print(metrics.classification_report(y_true, y_pred, digits=3))"
   ]
  },
  {
   "cell_type": "markdown",
   "id": "ffbeeeff-57fd-4589-9d0b-7d0010cbaa85",
   "metadata": {},
   "source": [
    "# PLOTTING"
   ]
  },
  {
   "cell_type": "code",
   "execution_count": 12,
   "id": "0f872ca1-6c71-4189-87d8-6717e92177ae",
   "metadata": {
    "tags": []
   },
   "outputs": [
    {
     "data": {
      "image/png": "[encoded data removed]",
      "text/plain": [
       "<Figure size 640x480 with 1 Axes>"
      ]
     },
     "metadata": {},
     "output_type": "display_data"
    }
   ],
   "source": [
    "train_loss_plot = []\n",
    "for value in All_train_loss:\n",
    "    v = value.detach().numpy()\n",
    "    train_loss_plot.append(v)\n",
    "plt.plot(train_loss_plot, label='Training Loss')\n",
    "plt.plot(All_val_loss,label='Validation Loss')\n",
    "plt.legend()\n",
    "plt.show\n",
    "plt.savefig('idrid_sgd_trainLossValLoss.png')"
   ]
  },
  {
   "cell_type": "markdown",
   "id": "90a7e522-9601-4c59-8348-444847e338b3",
   "metadata": {},
   "source": [
    "## Predictability Analysis"
   ]
  },
  {
   "cell_type": "code",
   "execution_count": 13,
   "id": "2b3e05ad-1c55-44b5-bf1c-ddb50626af82",
   "metadata": {},
   "outputs": [],
   "source": [
    "model_paths = {\n",
    "    'Backbone': 'IDRID Backbone/idrid_last_backbone.pt',\n",
    "    'Unweighted Scratch': 'IDRID Scratch/idrid_last_scratch.pt',\n",
    "    'Weighted Scratch': 'IDRID Weighted Correct/idrid_best_scratch_weighted.pt',\n",
    "    'CLAHE': 'IDRID CLAHE /idrid_last_clahe.pt'\n",
    "}"
   ]
  },
  {
   "cell_type": "code",
   "execution_count": 14,
   "id": "0e163def-7a3c-4026-a5b3-53a66616e645",
   "metadata": {
    "tags": []
   },
   "outputs": [
    {
     "name": "stdout",
     "output_type": "stream",
     "text": [
      "----------------| Backbone |----------------\n"
     ]
    },
    {
     "name": "stderr",
     "output_type": "stream",
     "text": [
      "/home/mainuser/.local/lib/python3.8/site-packages/torchvision/transforms/functional.py:1603: UserWarning: The default value of the antialias parameter of all the resizing transforms (Resize(), RandomResizedCrop(), etc.) will change from None to True in v0.17, in order to be consistent across the PIL and Tensor backends. To suppress this warning, directly pass antialias=True (recommended, future default), antialias=None (current default, which means False for Tensors and True for PIL), or antialias=False (only works on Tensors - PIL will still use antialiasing). This also applies if you are using the inference transforms from the models weights: update the call to weights.transforms(antialias=True).\n",
      "  warnings.warn(\n"
     ]
    },
    {
     "name": "stdout",
     "output_type": "stream",
     "text": [
      "Train Accuracy: 0.8152\n",
      "Train F1 Score: 0.8116\n",
      "Train Kappa score: 0.747460\n",
      "----------------\n"
     ]
    },
    {
     "name": "stderr",
     "output_type": "stream",
     "text": [
      "/home/mainuser/.local/lib/python3.8/site-packages/torchvision/transforms/functional.py:1603: UserWarning: The default value of the antialias parameter of all the resizing transforms (Resize(), RandomResizedCrop(), etc.) will change from None to True in v0.17, in order to be consistent across the PIL and Tensor backends. To suppress this warning, directly pass antialias=True (recommended, future default), antialias=None (current default, which means False for Tensors and True for PIL), or antialias=False (only works on Tensors - PIL will still use antialiasing). This also applies if you are using the inference transforms from the models weights: update the call to weights.transforms(antialias=True).\n",
      "  warnings.warn(\n"
     ]
    },
    {
     "name": "stdout",
     "output_type": "stream",
     "text": [
      "Val Accuracy: 0.5542\n",
      "Val F1 Score: 0.5308\n",
      "Val Kappa score: 0.384075\n",
      "----------------| Unweighted Scratch |----------------\n"
     ]
    },
    {
     "name": "stderr",
     "output_type": "stream",
     "text": [
      "/home/mainuser/.local/lib/python3.8/site-packages/torchvision/transforms/functional.py:1603: UserWarning: The default value of the antialias parameter of all the resizing transforms (Resize(), RandomResizedCrop(), etc.) will change from None to True in v0.17, in order to be consistent across the PIL and Tensor backends. To suppress this warning, directly pass antialias=True (recommended, future default), antialias=None (current default, which means False for Tensors and True for PIL), or antialias=False (only works on Tensors - PIL will still use antialiasing). This also applies if you are using the inference transforms from the models weights: update the call to weights.transforms(antialias=True).\n",
      "  warnings.warn(\n"
     ]
    },
    {
     "name": "stdout",
     "output_type": "stream",
     "text": [
      "Train Accuracy: 0.8394\n",
      "Train F1 Score: 0.8222\n",
      "Train Kappa score: 0.780348\n",
      "----------------\n"
     ]
    },
    {
     "name": "stderr",
     "output_type": "stream",
     "text": [
      "/home/mainuser/.local/lib/python3.8/site-packages/torchvision/transforms/functional.py:1603: UserWarning: The default value of the antialias parameter of all the resizing transforms (Resize(), RandomResizedCrop(), etc.) will change from None to True in v0.17, in order to be consistent across the PIL and Tensor backends. To suppress this warning, directly pass antialias=True (recommended, future default), antialias=None (current default, which means False for Tensors and True for PIL), or antialias=False (only works on Tensors - PIL will still use antialiasing). This also applies if you are using the inference transforms from the models weights: update the call to weights.transforms(antialias=True).\n",
      "  warnings.warn(\n"
     ]
    },
    {
     "name": "stdout",
     "output_type": "stream",
     "text": [
      "Val Accuracy: 0.6265\n",
      "Val F1 Score: 0.6208\n",
      "Val Kappa score: 0.496182\n",
      "----------------| Weighted Scratch |----------------\n"
     ]
    },
    {
     "name": "stderr",
     "output_type": "stream",
     "text": [
      "/home/mainuser/.local/lib/python3.8/site-packages/torchvision/transforms/functional.py:1603: UserWarning: The default value of the antialias parameter of all the resizing transforms (Resize(), RandomResizedCrop(), etc.) will change from None to True in v0.17, in order to be consistent across the PIL and Tensor backends. To suppress this warning, directly pass antialias=True (recommended, future default), antialias=None (current default, which means False for Tensors and True for PIL), or antialias=False (only works on Tensors - PIL will still use antialiasing). This also applies if you are using the inference transforms from the models weights: update the call to weights.transforms(antialias=True).\n",
      "  warnings.warn(\n"
     ]
    },
    {
     "name": "stdout",
     "output_type": "stream",
     "text": [
      "Train Accuracy: 0.6576\n",
      "Train F1 Score: 0.5945\n",
      "Train Kappa score: 0.508112\n",
      "----------------\n"
     ]
    },
    {
     "name": "stderr",
     "output_type": "stream",
     "text": [
      "/home/mainuser/.local/lib/python3.8/site-packages/torchvision/transforms/functional.py:1603: UserWarning: The default value of the antialias parameter of all the resizing transforms (Resize(), RandomResizedCrop(), etc.) will change from None to True in v0.17, in order to be consistent across the PIL and Tensor backends. To suppress this warning, directly pass antialias=True (recommended, future default), antialias=None (current default, which means False for Tensors and True for PIL), or antialias=False (only works on Tensors - PIL will still use antialiasing). This also applies if you are using the inference transforms from the models weights: update the call to weights.transforms(antialias=True).\n",
      "  warnings.warn(\n"
     ]
    },
    {
     "name": "stdout",
     "output_type": "stream",
     "text": [
      "Val Accuracy: 0.6386\n",
      "Val F1 Score: 0.5755\n",
      "Val Kappa score: 0.484792\n",
      "----------------| CLAHE |----------------\n"
     ]
    },
    {
     "name": "stderr",
     "output_type": "stream",
     "text": [
      "/home/mainuser/.local/lib/python3.8/site-packages/torchvision/transforms/functional.py:1603: UserWarning: The default value of the antialias parameter of all the resizing transforms (Resize(), RandomResizedCrop(), etc.) will change from None to True in v0.17, in order to be consistent across the PIL and Tensor backends. To suppress this warning, directly pass antialias=True (recommended, future default), antialias=None (current default, which means False for Tensors and True for PIL), or antialias=False (only works on Tensors - PIL will still use antialiasing). This also applies if you are using the inference transforms from the models weights: update the call to weights.transforms(antialias=True).\n",
      "  warnings.warn(\n"
     ]
    },
    {
     "name": "stdout",
     "output_type": "stream",
     "text": [
      "Train Accuracy: 0.7758\n",
      "Train F1 Score: 0.7542\n",
      "Train Kappa score: 0.691970\n",
      "----------------\n"
     ]
    },
    {
     "name": "stderr",
     "output_type": "stream",
     "text": [
      "/home/mainuser/.local/lib/python3.8/site-packages/torchvision/transforms/functional.py:1603: UserWarning: The default value of the antialias parameter of all the resizing transforms (Resize(), RandomResizedCrop(), etc.) will change from None to True in v0.17, in order to be consistent across the PIL and Tensor backends. To suppress this warning, directly pass antialias=True (recommended, future default), antialias=None (current default, which means False for Tensors and True for PIL), or antialias=False (only works on Tensors - PIL will still use antialiasing). This also applies if you are using the inference transforms from the models weights: update the call to weights.transforms(antialias=True).\n",
      "  warnings.warn(\n"
     ]
    },
    {
     "name": "stdout",
     "output_type": "stream",
     "text": [
      "Val Accuracy: 0.6747\n",
      "Val F1 Score: 0.6548\n",
      "Val Kappa score: 0.553408\n"
     ]
    }
   ],
   "source": [
    "for _title in model_paths:\n",
    "    print(f\"----------------| {_title} |----------------\")\n",
    "    model.load_state_dict(torch.load(model_paths[_title]))\n",
    "    model = model.to(torch.cuda.current_device())\n",
    "    \n",
    "    model.eval()\n",
    "    with torch.no_grad():\n",
    "        y_true = []\n",
    "        y_pred = []\n",
    "        for images, labels in train_dataloader:\n",
    "            images = images.to(device)\n",
    "            labels = labels.to(device)\n",
    "            outputs = model(images)\n",
    "            predicted = torch.argmax(outputs, 1)\n",
    "            y_true.extend(labels.cpu())\n",
    "            y_pred.extend(predicted.cpu())\n",
    "\n",
    "    # Compute the accuracy and F1 score\n",
    "    accuracy = accuracy_score(y_true, y_pred)\n",
    "    f1 = f1_score(y_true, y_pred, average='weighted')\n",
    "    kappa = cohen_kappa_score(y_true, y_pred)\n",
    "\n",
    "    print(f'Train Accuracy: {accuracy:.4f}')\n",
    "    print(f'Train F1 Score: {f1:.4f}')\n",
    "    print(f'Train Kappa score: {kappa:4f}')\n",
    "\n",
    "    print(f\"----------------\")\n",
    "    \n",
    "    with torch.no_grad():\n",
    "        y_true = []\n",
    "        y_pred = []\n",
    "        for images, labels in val_dataloader:\n",
    "            images = images.to(device)\n",
    "            labels = labels.to(device)\n",
    "            outputs = model(images)\n",
    "            predicted = torch.argmax(outputs, 1)\n",
    "            y_true.extend(labels.cpu())\n",
    "            y_pred.extend(predicted.cpu())\n",
    "\n",
    "    # Compute the accuracy and F1 score\n",
    "    accuracy = accuracy_score(y_true, y_pred)\n",
    "    f1 = f1_score(y_true, y_pred, average='weighted')\n",
    "    kappa = cohen_kappa_score(y_true, y_pred)\n",
    "\n",
    "    print(f'Val Accuracy: {accuracy:.4f}')\n",
    "    print(f'Val F1 Score: {f1:.4f}')\n",
    "    print(f'Val Kappa score: {kappa:4f}')"
   ]
  },
  {
   "cell_type": "code",
   "execution_count": null,
   "id": "62956b3b-8829-4630-a550-9e0791704280",
   "metadata": {},
   "outputs": [],
   "source": []
  }
 ],
 "metadata": {
  "kernelspec": {
   "display_name": "Python 3 (ipykernel)",
   "language": "python",
   "name": "python3"
  },
  "language_info": {
   "codemirror_mode": {
    "name": "ipython",
    "version": 3
   },
   "file_extension": ".py",
   "mimetype": "text/x-python",
   "name": "python",
   "nbconvert_exporter": "python",
   "pygments_lexer": "ipython3",
   "version": "3.8.10"
  }
 },
 "nbformat": 4,
 "nbformat_minor": 5
}
