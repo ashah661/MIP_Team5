{
 "cells": [
  {
   "cell_type": "code",
   "execution_count": 1,
   "id": "71ad54cf-b8a1-4d8f-a57f-84633b1da866",
   "metadata": {
    "tags": []
   },
   "outputs": [],
   "source": [
    "import pandas as pd"
   ]
  },
  {
   "cell_type": "code",
   "execution_count": 2,
   "id": "70046aeb",
   "metadata": {},
   "outputs": [],
   "source": [
    "df = pd.read_csv('Messidor/Groundtruths.csv')\n",
    "\n",
    "df0 = df.loc[df['Retinopathy grade']==0]\n",
    "df1 = df.loc[df['Retinopathy grade']==1]\n",
    "df2 = df.loc[df['Retinopathy grade']==2]\n",
    "df3 = df.loc[df['Retinopathy grade']==3]"
   ]
  },
  {
   "cell_type": "code",
   "execution_count": 3,
   "id": "34eef936",
   "metadata": {},
   "outputs": [
    {
     "name": "stdout",
     "output_type": "stream",
     "text": [
      "546\n",
      "153\n",
      "247\n",
      "254\n"
     ]
    }
   ],
   "source": [
    "print(len(df0))\n",
    "print(len(df1))\n",
    "print(len(df2))\n",
    "print(len(df3))"
   ]
  },
  {
   "cell_type": "code",
   "execution_count": 4,
   "id": "30a09822",
   "metadata": {},
   "outputs": [],
   "source": [
    "from sklearn.utils import shuffle\n",
    "\n",
    "df0 = shuffle(df0, random_state=27)\n",
    "df1 = shuffle(df1, random_state=27)\n",
    "df2 = shuffle(df2, random_state=27)\n",
    "df3 = shuffle(df3, random_state=27)"
   ]
  },
  {
   "cell_type": "code",
   "execution_count": 5,
   "id": "42a3d6ca",
   "metadata": {},
   "outputs": [],
   "source": [
    "def train_val_test_split(df, train_frac = 0.64, val_frac = 0.16):\n",
    "    full_len = len(df)\n",
    "    train_len = round(full_len*train_frac)\n",
    "    val_len = round(full_len*val_frac)\n",
    "    \n",
    "    df_train = df.iloc[:train_len, :]\n",
    "    df_val = df.iloc[train_len:train_len+val_len, :]\n",
    "    df_test = df.iloc[train_len+val_len:]\n",
    "    \n",
    "    return df_train, df_val, df_test"
   ]
  },
  {
   "cell_type": "code",
   "execution_count": 6,
   "id": "eced0fce",
   "metadata": {},
   "outputs": [],
   "source": [
    "df_train0, df_val0, df_test0 = train_val_test_split(df0)\n",
    "df_train1, df_val1, df_test1 = train_val_test_split(df1)\n",
    "df_train2, df_val2, df_test2 = train_val_test_split(df2)\n",
    "df_train3, df_val3, df_test3 = train_val_test_split(df3)"
   ]
  },
  {
   "cell_type": "code",
   "execution_count": 7,
   "id": "da721c1f",
   "metadata": {},
   "outputs": [
    {
     "name": "stdout",
     "output_type": "stream",
     "text": [
      "768 192 240\n"
     ]
    }
   ],
   "source": [
    "train = pd.concat([df_train0, df_train1, df_train2, df_train3])\n",
    "val = pd.concat([df_val0, df_val1, df_val2, df_val3])\n",
    "test = pd.concat([df_test0, df_test1, df_test2, df_test3])\n",
    "\n",
    "print(len(train), len(val), len(test))"
   ]
  },
  {
   "cell_type": "code",
   "execution_count": 8,
   "id": "0c8de345",
   "metadata": {},
   "outputs": [
    {
     "data": {
      "text/html": [
       "<div>\n",
       "<style scoped>\n",
       "    .dataframe tbody tr th:only-of-type {\n",
       "        vertical-align: middle;\n",
       "    }\n",
       "\n",
       "    .dataframe tbody tr th {\n",
       "        vertical-align: top;\n",
       "    }\n",
       "\n",
       "    .dataframe thead th {\n",
       "        text-align: right;\n",
       "    }\n",
       "</style>\n",
       "<table border=\"1\" class=\"dataframe\">\n",
       "  <thead>\n",
       "    <tr style=\"text-align: right;\">\n",
       "      <th></th>\n",
       "      <th>Image name</th>\n",
       "      <th>Retinopathy grade</th>\n",
       "      <th>Risk of macular edema</th>\n",
       "    </tr>\n",
       "  </thead>\n",
       "  <tbody>\n",
       "    <tr>\n",
       "      <th>920</th>\n",
       "      <td>20060407_46070_0200_PP.tif</td>\n",
       "      <td>0</td>\n",
       "      <td>0</td>\n",
       "    </tr>\n",
       "    <tr>\n",
       "      <th>916</th>\n",
       "      <td>20060407_45852_0200_PP.tif</td>\n",
       "      <td>0</td>\n",
       "      <td>0</td>\n",
       "    </tr>\n",
       "    <tr>\n",
       "      <th>1123</th>\n",
       "      <td>20060412_58054_0200_PP.tif</td>\n",
       "      <td>0</td>\n",
       "      <td>0</td>\n",
       "    </tr>\n",
       "    <tr>\n",
       "      <th>405</th>\n",
       "      <td>20051020_44261_0100_PP.tif</td>\n",
       "      <td>0</td>\n",
       "      <td>0</td>\n",
       "    </tr>\n",
       "    <tr>\n",
       "      <th>172</th>\n",
       "      <td>20051130_60794_0400_PP.tif</td>\n",
       "      <td>0</td>\n",
       "      <td>0</td>\n",
       "    </tr>\n",
       "  </tbody>\n",
       "</table>\n",
       "</div>"
      ],
      "text/plain": [
       "                      Image name  Retinopathy grade  Risk of macular edema \n",
       "920   20060407_46070_0200_PP.tif                  0                       0\n",
       "916   20060407_45852_0200_PP.tif                  0                       0\n",
       "1123  20060412_58054_0200_PP.tif                  0                       0\n",
       "405   20051020_44261_0100_PP.tif                  0                       0\n",
       "172   20051130_60794_0400_PP.tif                  0                       0"
      ]
     },
     "execution_count": 8,
     "metadata": {},
     "output_type": "execute_result"
    }
   ],
   "source": [
    "train.head()"
   ]
  },
  {
   "cell_type": "code",
   "execution_count": 9,
   "id": "38400ee9",
   "metadata": {},
   "outputs": [],
   "source": [
    "train.to_csv('Messidor/train.csv', index=False)\n",
    "val.to_csv('Messidor/val.csv', index=False)\n",
    "test.to_csv('Messidor/test.csv', index=False)"
   ]
  },
  {
   "cell_type": "code",
   "execution_count": 10,
   "id": "acbe0f39",
   "metadata": {},
   "outputs": [
    {
     "name": "stdout",
     "output_type": "stream",
     "text": [
      "<class 'pandas.core.frame.DataFrame'>\n",
      "RangeIndex: 768 entries, 0 to 767\n",
      "Data columns (total 3 columns):\n",
      " #   Column                  Non-Null Count  Dtype \n",
      "---  ------                  --------------  ----- \n",
      " 0   Image name              768 non-null    object\n",
      " 1   Retinopathy grade       768 non-null    int64 \n",
      " 2   Risk of macular edema   768 non-null    int64 \n",
      "dtypes: int64(2), object(1)\n",
      "memory usage: 18.1+ KB\n"
     ]
    }
   ],
   "source": [
    "df_demo = pd.read_csv('Messidor/train.csv')\n",
    "df_demo.info()"
   ]
  },
  {
   "cell_type": "code",
   "execution_count": null,
   "id": "6dded8bb",
   "metadata": {},
   "outputs": [],
   "source": []
  },
  {
   "cell_type": "code",
   "execution_count": 2,
   "id": "23bfaae4",
   "metadata": {},
   "outputs": [],
   "source": [
    "idrid = 'IDRiD/B. Disease Grading/1. Original Images/a. Training Set'\n",
    "\n",
    "df = pd.read_csv('IDRiD/B. Disease Grading/2. Groundtruths/a. IDRiD_Disease Grading_Training Labels.csv')\n",
    "\n",
    "df0 = df.loc[df['Retinopathy grade']==0]\n",
    "df1 = df.loc[df['Retinopathy grade']==1]\n",
    "df2 = df.loc[df['Retinopathy grade']==2]\n",
    "df3 = df.loc[df['Retinopathy grade']==3]\n",
    "df4 = df.loc[df['Retinopathy grade']==4]"
   ]
  },
  {
   "cell_type": "code",
   "execution_count": 3,
   "id": "46a17076",
   "metadata": {},
   "outputs": [
    {
     "name": "stdout",
     "output_type": "stream",
     "text": [
      "134\n",
      "20\n",
      "136\n",
      "74\n",
      "49\n"
     ]
    }
   ],
   "source": [
    "print(len(df0))\n",
    "print(len(df1))\n",
    "print(len(df2))\n",
    "print(len(df3))\n",
    "print(len(df4))"
   ]
  },
  {
   "cell_type": "code",
   "execution_count": 11,
   "id": "b7aa0637",
   "metadata": {},
   "outputs": [],
   "source": [
    "from sklearn.utils import shuffle\n",
    "\n",
    "df0 = shuffle(df0, random_state=27)\n",
    "df1 = shuffle(df1, random_state=27)\n",
    "df2 = shuffle(df2, random_state=27)\n",
    "df3 = shuffle(df3, random_state=27)\n",
    "df4 = shuffle(df4, random_state=27)"
   ]
  },
  {
   "cell_type": "code",
   "execution_count": 10,
   "id": "2b073be7-0253-4afb-9104-13f43c41d1aa",
   "metadata": {
    "tags": []
   },
   "outputs": [],
   "source": [
    "def train_val_split(df, train_frac = 0.8, val_frac = 0.2):\n",
    "    full_len = len(df)\n",
    "    train_len = round(full_len*train_frac)\n",
    "    val_len = round(full_len*val_frac)\n",
    "    \n",
    "    df_train = df.iloc[:train_len, :]\n",
    "    df_val = df.iloc[train_len:train_len+val_len, :]\n",
    "    \n",
    "    return df_train, df_val"
   ]
  },
  {
   "cell_type": "code",
   "execution_count": 12,
   "id": "b795b726",
   "metadata": {},
   "outputs": [],
   "source": [
    "df_train0, df_val0 = train_val_split(df0)\n",
    "df_train1, df_val1 = train_val_split(df1)\n",
    "df_train2, df_val2 = train_val_split(df2)\n",
    "df_train3, df_val3 = train_val_split(df3)\n",
    "df_train4, df_val4 = train_val_split(df4)"
   ]
  },
  {
   "cell_type": "code",
   "execution_count": 13,
   "id": "dce81bfc",
   "metadata": {},
   "outputs": [
    {
     "name": "stdout",
     "output_type": "stream",
     "text": [
      "330 83\n"
     ]
    }
   ],
   "source": [
    "train = pd.concat([df_train0, df_train1, df_train2, df_train3, df_train4])\n",
    "val = pd.concat([df_val0, df_val1, df_val2, df_val3, df_val4])\n",
    "\n",
    "print(len(train), len(val))"
   ]
  },
  {
   "cell_type": "code",
   "execution_count": 14,
   "id": "36427d58",
   "metadata": {},
   "outputs": [
    {
     "data": {
      "text/html": [
       "<div>\n",
       "<style scoped>\n",
       "    .dataframe tbody tr th:only-of-type {\n",
       "        vertical-align: middle;\n",
       "    }\n",
       "\n",
       "    .dataframe tbody tr th {\n",
       "        vertical-align: top;\n",
       "    }\n",
       "\n",
       "    .dataframe thead th {\n",
       "        text-align: right;\n",
       "    }\n",
       "</style>\n",
       "<table border=\"1\" class=\"dataframe\">\n",
       "  <thead>\n",
       "    <tr style=\"text-align: right;\">\n",
       "      <th></th>\n",
       "      <th>Image name</th>\n",
       "      <th>Retinopathy grade</th>\n",
       "      <th>Risk of macular edema</th>\n",
       "      <th>Unnamed: 3</th>\n",
       "      <th>Unnamed: 4</th>\n",
       "      <th>Unnamed: 5</th>\n",
       "      <th>Unnamed: 6</th>\n",
       "      <th>Unnamed: 7</th>\n",
       "      <th>Unnamed: 8</th>\n",
       "      <th>Unnamed: 9</th>\n",
       "      <th>Unnamed: 10</th>\n",
       "      <th>Unnamed: 11</th>\n",
       "    </tr>\n",
       "  </thead>\n",
       "  <tbody>\n",
       "    <tr>\n",
       "      <th>311</th>\n",
       "      <td>IDRiD_312</td>\n",
       "      <td>0</td>\n",
       "      <td>0</td>\n",
       "      <td>NaN</td>\n",
       "      <td>NaN</td>\n",
       "      <td>NaN</td>\n",
       "      <td>NaN</td>\n",
       "      <td>NaN</td>\n",
       "      <td>NaN</td>\n",
       "      <td>NaN</td>\n",
       "      <td>NaN</td>\n",
       "      <td>NaN</td>\n",
       "    </tr>\n",
       "    <tr>\n",
       "      <th>176</th>\n",
       "      <td>IDRiD_177</td>\n",
       "      <td>0</td>\n",
       "      <td>0</td>\n",
       "      <td>NaN</td>\n",
       "      <td>NaN</td>\n",
       "      <td>NaN</td>\n",
       "      <td>NaN</td>\n",
       "      <td>NaN</td>\n",
       "      <td>NaN</td>\n",
       "      <td>NaN</td>\n",
       "      <td>NaN</td>\n",
       "      <td>NaN</td>\n",
       "    </tr>\n",
       "    <tr>\n",
       "      <th>148</th>\n",
       "      <td>IDRiD_149</td>\n",
       "      <td>0</td>\n",
       "      <td>0</td>\n",
       "      <td>NaN</td>\n",
       "      <td>NaN</td>\n",
       "      <td>NaN</td>\n",
       "      <td>NaN</td>\n",
       "      <td>NaN</td>\n",
       "      <td>NaN</td>\n",
       "      <td>NaN</td>\n",
       "      <td>NaN</td>\n",
       "      <td>NaN</td>\n",
       "    </tr>\n",
       "    <tr>\n",
       "      <th>358</th>\n",
       "      <td>IDRiD_359</td>\n",
       "      <td>0</td>\n",
       "      <td>0</td>\n",
       "      <td>NaN</td>\n",
       "      <td>NaN</td>\n",
       "      <td>NaN</td>\n",
       "      <td>NaN</td>\n",
       "      <td>NaN</td>\n",
       "      <td>NaN</td>\n",
       "      <td>NaN</td>\n",
       "      <td>NaN</td>\n",
       "      <td>NaN</td>\n",
       "    </tr>\n",
       "    <tr>\n",
       "      <th>145</th>\n",
       "      <td>IDRiD_146</td>\n",
       "      <td>0</td>\n",
       "      <td>0</td>\n",
       "      <td>NaN</td>\n",
       "      <td>NaN</td>\n",
       "      <td>NaN</td>\n",
       "      <td>NaN</td>\n",
       "      <td>NaN</td>\n",
       "      <td>NaN</td>\n",
       "      <td>NaN</td>\n",
       "      <td>NaN</td>\n",
       "      <td>NaN</td>\n",
       "    </tr>\n",
       "  </tbody>\n",
       "</table>\n",
       "</div>"
      ],
      "text/plain": [
       "    Image name  Retinopathy grade  Risk of macular edema   Unnamed: 3  \\\n",
       "311  IDRiD_312                  0                       0         NaN   \n",
       "176  IDRiD_177                  0                       0         NaN   \n",
       "148  IDRiD_149                  0                       0         NaN   \n",
       "358  IDRiD_359                  0                       0         NaN   \n",
       "145  IDRiD_146                  0                       0         NaN   \n",
       "\n",
       "     Unnamed: 4  Unnamed: 5  Unnamed: 6  Unnamed: 7  Unnamed: 8  Unnamed: 9  \\\n",
       "311         NaN         NaN         NaN         NaN         NaN         NaN   \n",
       "176         NaN         NaN         NaN         NaN         NaN         NaN   \n",
       "148         NaN         NaN         NaN         NaN         NaN         NaN   \n",
       "358         NaN         NaN         NaN         NaN         NaN         NaN   \n",
       "145         NaN         NaN         NaN         NaN         NaN         NaN   \n",
       "\n",
       "     Unnamed: 10 Unnamed: 11  \n",
       "311          NaN         NaN  \n",
       "176          NaN         NaN  \n",
       "148          NaN         NaN  \n",
       "358          NaN         NaN  \n",
       "145          NaN         NaN  "
      ]
     },
     "execution_count": 14,
     "metadata": {},
     "output_type": "execute_result"
    }
   ],
   "source": [
    "train.head()"
   ]
  },
  {
   "cell_type": "code",
   "execution_count": 15,
   "id": "ea804cf8",
   "metadata": {},
   "outputs": [],
   "source": [
    "train.to_csv('IDRiD/train.csv', index=False)\n",
    "val.to_csv('IDRiD/val.csv', index=False)"
   ]
  },
  {
   "cell_type": "code",
   "execution_count": 16,
   "id": "b70b6db6",
   "metadata": {},
   "outputs": [
    {
     "name": "stdout",
     "output_type": "stream",
     "text": [
      "<class 'pandas.core.frame.DataFrame'>\n",
      "RangeIndex: 330 entries, 0 to 329\n",
      "Data columns (total 12 columns):\n",
      " #   Column                  Non-Null Count  Dtype  \n",
      "---  ------                  --------------  -----  \n",
      " 0   Image name              330 non-null    object \n",
      " 1   Retinopathy grade       330 non-null    int64  \n",
      " 2   Risk of macular edema   330 non-null    int64  \n",
      " 3   Unnamed: 3              0 non-null      float64\n",
      " 4   Unnamed: 4              0 non-null      float64\n",
      " 5   Unnamed: 5              0 non-null      float64\n",
      " 6   Unnamed: 6              0 non-null      float64\n",
      " 7   Unnamed: 7              0 non-null      float64\n",
      " 8   Unnamed: 8              0 non-null      float64\n",
      " 9   Unnamed: 9              0 non-null      float64\n",
      " 10  Unnamed: 10             0 non-null      float64\n",
      " 11  Unnamed: 11             1 non-null      object \n",
      "dtypes: float64(8), int64(2), object(2)\n",
      "memory usage: 31.1+ KB\n"
     ]
    }
   ],
   "source": [
    "df_demo = pd.read_csv('IDRiD/train.csv')\n",
    "df_demo.info()"
   ]
  },
  {
   "cell_type": "code",
   "execution_count": null,
   "id": "12c36d8a",
   "metadata": {},
   "outputs": [],
   "source": []
  },
  {
   "cell_type": "code",
   "execution_count": 3,
   "id": "d9920f11-7b76-48ec-aa77-20cd91c9cdee",
   "metadata": {
    "tags": []
   },
   "outputs": [],
   "source": [
    "eyepacs = 'EyePACS/eyepacs_preprocess/eyepacs_preprocess'\n",
    "\n",
    "df = pd.read_csv('EyePACS/trainLabels.csv')\n",
    "\n",
    "df0 = df.loc[df['level']==0]\n",
    "df1 = df.loc[df['level']==1]\n",
    "df2 = df.loc[df['level']==2]\n",
    "df3 = df.loc[df['level']==3]\n",
    "df4 = df.loc[df['level']==4]"
   ]
  },
  {
   "cell_type": "code",
   "execution_count": 4,
   "id": "ec092e13-eaed-414c-9595-313aae705258",
   "metadata": {
    "tags": []
   },
   "outputs": [
    {
     "name": "stdout",
     "output_type": "stream",
     "text": [
      "25802\n",
      "2438\n",
      "5288\n",
      "872\n",
      "708\n"
     ]
    }
   ],
   "source": [
    "print(len(df0))\n",
    "print(len(df1))\n",
    "print(len(df2))\n",
    "print(len(df3))\n",
    "print(len(df4))"
   ]
  },
  {
   "cell_type": "code",
   "execution_count": 5,
   "id": "dd5806ef-55ae-49ed-a1e5-fd93cfdd33bf",
   "metadata": {
    "tags": []
   },
   "outputs": [],
   "source": [
    "from sklearn.utils import shuffle\n",
    "\n",
    "df0 = shuffle(df0, random_state=27)\n",
    "df1 = shuffle(df1, random_state=27)\n",
    "df2 = shuffle(df2, random_state=27)\n",
    "df3 = shuffle(df3, random_state=27)\n",
    "df4 = shuffle(df4, random_state=27)"
   ]
  },
  {
   "cell_type": "code",
   "execution_count": 5,
   "id": "e9a8c0ba-76a6-4142-9b58-a03ea5388a36",
   "metadata": {
    "tags": []
   },
   "outputs": [],
   "source": [
    "df_train0, df_val0, df_test0 = train_val_test_split(df0)\n",
    "df_train1, df_val1, df_test1 = train_val_test_split(df1)\n",
    "df_train2, df_val2, df_test2 = train_val_test_split(df2)\n",
    "df_train3, df_val3, df_test3 = train_val_test_split(df3)\n",
    "df_train4, df_val4, df_test4 = train_val_test_split(df4)"
   ]
  },
  {
   "cell_type": "code",
   "execution_count": 6,
   "id": "8b1f8cf6-196c-4765-a14c-ec534398427c",
   "metadata": {
    "tags": []
   },
   "outputs": [
    {
     "name": "stdout",
     "output_type": "stream",
     "text": [
      "264 66 83\n"
     ]
    }
   ],
   "source": [
    "train = pd.concat([df_train0, df_train1, df_train2, df_train3, df_train4])\n",
    "val = pd.concat([df_val0, df_val1, df_val2, df_val3, df_val4])\n",
    "test = pd.concat([df_test0, df_test1, df_test2, df_test3, df_test4])\n",
    "\n",
    "print(len(train), len(val), len(test))"
   ]
  },
  {
   "cell_type": "code",
   "execution_count": 7,
   "id": "74948539-0357-45c2-8625-da8984476e5a",
   "metadata": {
    "tags": []
   },
   "outputs": [
    {
     "data": {
      "text/html": [
       "<div>\n",
       "<style scoped>\n",
       "    .dataframe tbody tr th:only-of-type {\n",
       "        vertical-align: middle;\n",
       "    }\n",
       "\n",
       "    .dataframe tbody tr th {\n",
       "        vertical-align: top;\n",
       "    }\n",
       "\n",
       "    .dataframe thead th {\n",
       "        text-align: right;\n",
       "    }\n",
       "</style>\n",
       "<table border=\"1\" class=\"dataframe\">\n",
       "  <thead>\n",
       "    <tr style=\"text-align: right;\">\n",
       "      <th></th>\n",
       "      <th>Image name</th>\n",
       "      <th>Retinopathy grade</th>\n",
       "      <th>Risk of macular edema</th>\n",
       "      <th>Unnamed: 3</th>\n",
       "      <th>Unnamed: 4</th>\n",
       "      <th>Unnamed: 5</th>\n",
       "      <th>Unnamed: 6</th>\n",
       "      <th>Unnamed: 7</th>\n",
       "      <th>Unnamed: 8</th>\n",
       "      <th>Unnamed: 9</th>\n",
       "      <th>Unnamed: 10</th>\n",
       "      <th>Unnamed: 11</th>\n",
       "    </tr>\n",
       "  </thead>\n",
       "  <tbody>\n",
       "    <tr>\n",
       "      <th>117</th>\n",
       "      <td>IDRiD_118</td>\n",
       "      <td>0</td>\n",
       "      <td>0</td>\n",
       "      <td>NaN</td>\n",
       "      <td>NaN</td>\n",
       "      <td>NaN</td>\n",
       "      <td>NaN</td>\n",
       "      <td>NaN</td>\n",
       "      <td>NaN</td>\n",
       "      <td>NaN</td>\n",
       "      <td>NaN</td>\n",
       "      <td>NaN</td>\n",
       "    </tr>\n",
       "    <tr>\n",
       "      <th>137</th>\n",
       "      <td>IDRiD_138</td>\n",
       "      <td>0</td>\n",
       "      <td>0</td>\n",
       "      <td>NaN</td>\n",
       "      <td>NaN</td>\n",
       "      <td>NaN</td>\n",
       "      <td>NaN</td>\n",
       "      <td>NaN</td>\n",
       "      <td>NaN</td>\n",
       "      <td>NaN</td>\n",
       "      <td>NaN</td>\n",
       "      <td>NaN</td>\n",
       "    </tr>\n",
       "    <tr>\n",
       "      <th>138</th>\n",
       "      <td>IDRiD_139</td>\n",
       "      <td>0</td>\n",
       "      <td>0</td>\n",
       "      <td>NaN</td>\n",
       "      <td>NaN</td>\n",
       "      <td>NaN</td>\n",
       "      <td>NaN</td>\n",
       "      <td>NaN</td>\n",
       "      <td>NaN</td>\n",
       "      <td>NaN</td>\n",
       "      <td>NaN</td>\n",
       "      <td>NaN</td>\n",
       "    </tr>\n",
       "    <tr>\n",
       "      <th>139</th>\n",
       "      <td>IDRiD_140</td>\n",
       "      <td>0</td>\n",
       "      <td>0</td>\n",
       "      <td>NaN</td>\n",
       "      <td>NaN</td>\n",
       "      <td>NaN</td>\n",
       "      <td>NaN</td>\n",
       "      <td>NaN</td>\n",
       "      <td>NaN</td>\n",
       "      <td>NaN</td>\n",
       "      <td>NaN</td>\n",
       "      <td>NaN</td>\n",
       "    </tr>\n",
       "    <tr>\n",
       "      <th>140</th>\n",
       "      <td>IDRiD_141</td>\n",
       "      <td>0</td>\n",
       "      <td>0</td>\n",
       "      <td>NaN</td>\n",
       "      <td>NaN</td>\n",
       "      <td>NaN</td>\n",
       "      <td>NaN</td>\n",
       "      <td>NaN</td>\n",
       "      <td>NaN</td>\n",
       "      <td>NaN</td>\n",
       "      <td>NaN</td>\n",
       "      <td>NaN</td>\n",
       "    </tr>\n",
       "  </tbody>\n",
       "</table>\n",
       "</div>"
      ],
      "text/plain": [
       "    Image name  Retinopathy grade  Risk of macular edema   Unnamed: 3  \\\n",
       "117  IDRiD_118                  0                       0         NaN   \n",
       "137  IDRiD_138                  0                       0         NaN   \n",
       "138  IDRiD_139                  0                       0         NaN   \n",
       "139  IDRiD_140                  0                       0         NaN   \n",
       "140  IDRiD_141                  0                       0         NaN   \n",
       "\n",
       "     Unnamed: 4  Unnamed: 5  Unnamed: 6  Unnamed: 7  Unnamed: 8  Unnamed: 9  \\\n",
       "117         NaN         NaN         NaN         NaN         NaN         NaN   \n",
       "137         NaN         NaN         NaN         NaN         NaN         NaN   \n",
       "138         NaN         NaN         NaN         NaN         NaN         NaN   \n",
       "139         NaN         NaN         NaN         NaN         NaN         NaN   \n",
       "140         NaN         NaN         NaN         NaN         NaN         NaN   \n",
       "\n",
       "     Unnamed: 10 Unnamed: 11  \n",
       "117          NaN         NaN  \n",
       "137          NaN         NaN  \n",
       "138          NaN         NaN  \n",
       "139          NaN         NaN  \n",
       "140          NaN         NaN  "
      ]
     },
     "execution_count": 7,
     "metadata": {},
     "output_type": "execute_result"
    }
   ],
   "source": [
    "train.head()"
   ]
  },
  {
   "cell_type": "code",
   "execution_count": 8,
   "id": "4fffc78b-8c9c-4437-8082-0d44c21f48fc",
   "metadata": {
    "tags": []
   },
   "outputs": [],
   "source": [
    "train.to_csv('EyePACS/train.csv', index=False)\n",
    "val.to_csv('EyePACS/val.csv', index=False)\n",
    "test.to_csv('EyePACS/test.csv', index=False)"
   ]
  },
  {
   "cell_type": "code",
   "execution_count": 9,
   "id": "e4fa990e-8b5c-4726-a782-7ea26fefc6cb",
   "metadata": {
    "tags": []
   },
   "outputs": [
    {
     "name": "stdout",
     "output_type": "stream",
     "text": [
      "<class 'pandas.core.frame.DataFrame'>\n",
      "RangeIndex: 264 entries, 0 to 263\n",
      "Data columns (total 12 columns):\n",
      " #   Column                  Non-Null Count  Dtype  \n",
      "---  ------                  --------------  -----  \n",
      " 0   Image name              264 non-null    object \n",
      " 1   Retinopathy grade       264 non-null    int64  \n",
      " 2   Risk of macular edema   264 non-null    int64  \n",
      " 3   Unnamed: 3              0 non-null      float64\n",
      " 4   Unnamed: 4              0 non-null      float64\n",
      " 5   Unnamed: 5              0 non-null      float64\n",
      " 6   Unnamed: 6              0 non-null      float64\n",
      " 7   Unnamed: 7              0 non-null      float64\n",
      " 8   Unnamed: 8              0 non-null      float64\n",
      " 9   Unnamed: 9              0 non-null      float64\n",
      " 10  Unnamed: 10             0 non-null      float64\n",
      " 11  Unnamed: 11             0 non-null      float64\n",
      "dtypes: float64(9), int64(2), object(1)\n",
      "memory usage: 24.9+ KB\n"
     ]
    }
   ],
   "source": [
    "df_demo = pd.read_csv('EyePACS/train.csv')\n",
    "df_demo.info()"
   ]
  },
  {
   "cell_type": "code",
   "execution_count": null,
   "id": "7e2087a5-14a5-4ecc-9812-60ed17d91bcc",
   "metadata": {},
   "outputs": [],
   "source": []
  }
 ],
 "metadata": {
  "kernelspec": {
   "display_name": "Python 3 (ipykernel)",
   "language": "python",
   "name": "python3"
  },
  "language_info": {
   "codemirror_mode": {
    "name": "ipython",
    "version": 3
   },
   "file_extension": ".py",
   "mimetype": "text/x-python",
   "name": "python",
   "nbconvert_exporter": "python",
   "pygments_lexer": "ipython3",
   "version": "3.8.10"
  }
 },
 "nbformat": 4,
 "nbformat_minor": 5
}
