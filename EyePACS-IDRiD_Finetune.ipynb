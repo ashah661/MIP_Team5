{
 "cells": [
  {
   "cell_type": "code",
   "execution_count": 1,
   "id": "a8da7bd5-e38b-42aa-af52-46e2560f6f48",
   "metadata": {
    "tags": []
   },
   "outputs": [
    {
     "name": "stderr",
     "output_type": "stream",
     "text": [
      "2023-04-20 16:31:39.807563: I tensorflow/core/platform/cpu_feature_guard.cc:182] This TensorFlow binary is optimized to use available CPU instructions in performance-critical operations.\n",
      "To enable the following instructions: AVX2 FMA, in other operations, rebuild TensorFlow with the appropriate compiler flags.\n",
      "2023-04-20 16:31:40.618919: W tensorflow/compiler/tf2tensorrt/utils/py_utils.cc:38] TF-TRT Warning: Could not find TensorRT\n"
     ]
    }
   ],
   "source": [
    "import os\n",
    "import numpy as np\n",
    "import pandas as pd\n",
    "import matplotlib.pyplot as plt\n",
    "\n",
    "import cv2\n",
    "\n",
    "import torchvision\n",
    "import torch\n",
    "from torch.utils.data import Dataset\n",
    "from torch.utils.data import DataLoader\n",
    "import torchvision.transforms as transforms\n",
    "from torchvision import datasets\n",
    "from torchvision.transforms import ToTensor\n",
    "from torchvision.io import read_image\n",
    "import tensorflow as tf"
   ]
  },
  {
   "cell_type": "code",
   "execution_count": 2,
   "id": "0de11d51-2916-469d-83b2-acf46c5f89e7",
   "metadata": {
    "tags": []
   },
   "outputs": [],
   "source": [
    "torch.cuda.set_device(1)\n",
    "device = torch.cuda.current_device()"
   ]
  },
  {
   "cell_type": "code",
   "execution_count": 3,
   "id": "cae0dfbb-718e-43e9-a0c5-f534eff2dedf",
   "metadata": {
    "tags": []
   },
   "outputs": [],
   "source": [
    "class CustomImageDataset(Dataset):\n",
    "    def __init__(self, csv_file, img_dir, transform=None, target_transform=None):\n",
    "        self.img_labels = pd.read_csv(csv_file)\n",
    "        self.img_dir = img_dir\n",
    "        self.transform = transform\n",
    "        self.target_transform = target_transform\n",
    "\n",
    "    def __len__(self):\n",
    "        return len(self.img_labels)\n",
    "\n",
    "    def __getitem__(self, idx):\n",
    "        img_path = os.path.join(self.img_dir, self.img_labels.iloc[idx, 0]+'.jpg')\n",
    "        image = read_image(img_path)/255.\n",
    "        label = self.img_labels.iloc[idx, 1]\n",
    "        if self.transform:\n",
    "            image = self.transform(image)\n",
    "        if self.target_transform:\n",
    "            label = self.target_transform(label)\n",
    "        return image, label"
   ]
  },
  {
   "cell_type": "code",
   "execution_count": 4,
   "id": "aa4a90a3-6353-4714-9641-ff0dd1818635",
   "metadata": {
    "tags": []
   },
   "outputs": [],
   "source": [
    "idrid_train = CustomImageDataset(csv_file='IDRiD/train.csv',\n",
    "                             img_dir='IDRiD/B. Disease Grading/1. Original Images/a. Training Set',\n",
    "                             transform=transforms.Compose([transforms.ToPILImage(),\n",
    "                                                           transforms.RandomHorizontalFlip(p=0.5),\n",
    "                                                           transforms.RandomVerticalFlip(p=0.3),\n",
    "                                                           transforms.ColorJitter(brightness=0.1,\n",
    "                                                                                  contrast=0.1,\n",
    "                                                                                  saturation=0.01,\n",
    "                                                                                  hue=0.01),\n",
    "                                                           transforms.ToTensor(),\n",
    "                                                           \n",
    "                                                           transforms.Resize((512,512)),\n",
    "                                                           \n",
    "                                                          ])\n",
    "                            )\n",
    "idrid_val = CustomImageDataset(csv_file='IDRiD/val.csv',\n",
    "                             img_dir='IDRiD/B. Disease Grading/1. Original Images/a. Training Set',\n",
    "                             transform=transforms.Compose([transforms.ToPILImage(),\n",
    "                                                           transforms.ToTensor(),\n",
    "                                                           \n",
    "                                                           transforms.Resize((512,512))\n",
    "                                                          ])\n",
    "                            )\n",
    "idrid_test = CustomImageDataset(csv_file='IDRiD/B. Disease Grading/2. Groundtruths/b. IDRiD_Disease Grading_Testing Labels.csv',\n",
    "                             img_dir='IDRiD/B. Disease Grading/1. Original Images/b. Testing Set',\n",
    "                             transform=transforms.Compose([transforms.ToPILImage(),\n",
    "                                                           transforms.ToTensor(),\n",
    "                                                           \n",
    "                                                           transforms.Resize((512,512))\n",
    "                                                          ])\n",
    "                            )"
   ]
  },
  {
   "cell_type": "code",
   "execution_count": 5,
   "id": "dfb6904b-ecfd-41b5-ba8d-2181c7231691",
   "metadata": {
    "tags": []
   },
   "outputs": [],
   "source": [
    "batch_size=32\n",
    "train_dataloader = DataLoader(idrid_train, batch_size=batch_size, shuffle=True)\n",
    "val_dataloader = DataLoader(idrid_val, batch_size=batch_size, shuffle=True)\n",
    "test_dataloader = DataLoader(idrid_test, batch_size=batch_size, shuffle=True)"
   ]
  },
  {
   "cell_type": "markdown",
   "id": "a31979a3-c879-42c1-b928-e90c46d13b41",
   "metadata": {},
   "source": [
    "# MODEL DEFINITION"
   ]
  },
  {
   "cell_type": "code",
   "execution_count": 6,
   "id": "b62371c9-56fa-4db2-a28f-bd5860ed1a06",
   "metadata": {
    "tags": []
   },
   "outputs": [],
   "source": [
    "nSamples = [107, 16, 109, 59, 39]\n",
    "norm_weights = [1 - (x / sum(nSamples)) for x in nSamples]\n",
    "model_weights = torch.tensor(norm_weights)"
   ]
  },
  {
   "cell_type": "code",
   "execution_count": 19,
   "id": "3cc170f6-142c-44a3-9deb-6b7e6237dc40",
   "metadata": {
    "tags": []
   },
   "outputs": [
    {
     "name": "stderr",
     "output_type": "stream",
     "text": [
      "/home/mainuser/.local/lib/python3.8/site-packages/torchvision/models/_utils.py:208: UserWarning: The parameter 'pretrained' is deprecated since 0.13 and may be removed in the future, please use 'weights' instead.\n",
      "  warnings.warn(\n",
      "/home/mainuser/.local/lib/python3.8/site-packages/torchvision/models/_utils.py:223: UserWarning: Arguments other than a weight enum or `None` for 'weights' are deprecated since 0.13 and may be removed in the future. The current behavior is equivalent to passing `weights=Inception_V3_Weights.IMAGENET1K_V1`. You can also use `weights=Inception_V3_Weights.DEFAULT` to get the most up-to-date weights.\n",
      "  warnings.warn(msg)\n"
     ]
    }
   ],
   "source": [
    "import torch.nn as nn\n",
    "import torch.optim as optim\n",
    "import torchvision.models as models\n",
    "\n",
    "class TransferInceptionV3(nn.Module):\n",
    "    def __init__(self, num_classes=5, dropout=0.5):\n",
    "        super(TransferInceptionV3, self).__init__()\n",
    "        self.features = models.inception_v3(pretrained=True)\n",
    "        self.features.aux_logits = False \n",
    "        for param in self.features.parameters():\n",
    "            param.requires_grad = True\n",
    "        self.fc1 = nn.Linear(1000, 256)\n",
    "        self.fc2 = nn.Linear(256,64)\n",
    "        self.fc3 = nn.Linear(64, num_classes)\n",
    "        self.dropout = nn.Dropout(p=dropout)\n",
    "        self.leaky_relu = nn.LeakyReLU(inplace=True)\n",
    "        \n",
    "    def forward(self, x):\n",
    "        x = self.features(x)\n",
    "        #x = x.logits\n",
    "        #x = x.view(x.size(0), -1)\n",
    "        #print(x.shape)\n",
    "        x = self.dropout(self.leaky_relu(self.fc1(x)))\n",
    "        x = self.dropout(self.leaky_relu(self.fc2(x)))\n",
    "        x = self.fc3(x)\n",
    "        return x\n",
    "\n",
    "\n",
    "model = TransferInceptionV3()\n",
    "model.load_state_dict(torch.load('eyepacs_results/w_32/w_32_eyepacs_last.pt')['model_state_dict'])\n",
    "model = model.to(torch.cuda.current_device())\n",
    "\n",
    "#Weighted\n",
    "criterion = nn.CrossEntropyLoss(weight=model_weights.to(torch.cuda.current_device()))\n",
    "optimizer = optim.Adam([*model.fc1.parameters(), *model.fc2.parameters()], lr=0.001)\n",
    "#optimizer = optim.RMSprop(model.parameters(), lr=0.001)\n",
    "#optimizer = optim.SGD(model.parameters(), lr=0.001)"
   ]
  },
  {
   "cell_type": "code",
   "execution_count": 28,
   "id": "d1164992-9748-4682-bb3d-4aad92b79024",
   "metadata": {
    "collapsed": true,
    "jupyter": {
     "outputs_hidden": true
    },
    "tags": []
   },
   "outputs": [
    {
     "name": "stderr",
     "output_type": "stream",
     "text": [
      "/home/mainuser/.local/lib/python3.8/site-packages/torchvision/transforms/functional.py:1603: UserWarning: The default value of the antialias parameter of all the resizing transforms (Resize(), RandomResizedCrop(), etc.) will change from None to True in v0.17, in order to be consistent across the PIL and Tensor backends. To suppress this warning, directly pass antialias=True (recommended, future default), antialias=None (current default, which means False for Tensors and True for PIL), or antialias=False (only works on Tensors - PIL will still use antialiasing). This also applies if you are using the inference transforms from the models weights: update the call to weights.transforms(antialias=True).\n",
      "  warnings.warn(\n"
     ]
    },
    {
     "name": "stdout",
     "output_type": "stream",
     "text": [
      "10: 1.2078934907913208\n",
      "---| VALIDATING EPOCH #1 |---\n",
      "3: 1.015573263168335\n",
      "\n",
      "Epoch 1/30: Train Loss = 1.0364, Val Loss = 0.8621\n",
      "Epoch took 6.0 minutes\n",
      "---------------------------------------------------------------\n",
      "10: 0.8775981068611145\n",
      "---| VALIDATING EPOCH #2 |---\n",
      "3: 0.7323205471038818\n",
      "\n",
      "Epoch 2/30: Train Loss = 0.9880, Val Loss = 0.8718\n",
      "Epoch took 6.0 minutes\n",
      "---------------------------------------------------------------\n",
      "10: 1.2029534578323364\n",
      "---| VALIDATING EPOCH #3 |---\n",
      "3: 0.8474206924438477\n",
      "\n",
      "Epoch 3/30: Train Loss = 1.0326, Val Loss = 0.8518\n",
      "---| SAVING CHECKPOINT TO DISK |---\n",
      "Epoch took 6.0 minutes\n",
      "---------------------------------------------------------------\n",
      "10: 0.9780533909797668\n",
      "---| VALIDATING EPOCH #4 |---\n",
      "3: 1.020444393157959\n",
      "\n",
      "Epoch 4/30: Train Loss = 0.9891, Val Loss = 0.8440\n",
      "---| SAVING CHECKPOINT TO DISK |---\n",
      "Epoch took 6.0 minutes\n",
      "---------------------------------------------------------------\n",
      "10: 0.9736467599868774\n",
      "---| VALIDATING EPOCH #5 |---\n",
      "3: 0.7724855542182922\n",
      "\n",
      "Epoch 5/30: Train Loss = 0.9663, Val Loss = 0.8675\n",
      "Epoch took 6.0 minutes\n",
      "---------------------------------------------------------------\n",
      "10: 0.9417004585266113\n",
      "---| VALIDATING EPOCH #6 |---\n",
      "3: 0.8534718751907349\n",
      "\n",
      "Epoch 6/30: Train Loss = 0.9668, Val Loss = 0.8498\n",
      "Epoch took 6.0 minutes\n",
      "---------------------------------------------------------------\n",
      "10: 1.3530075550079346\n",
      "---| VALIDATING EPOCH #7 |---\n",
      "3: 0.8140023946762085\n",
      "\n",
      "Epoch 7/30: Train Loss = 1.0178, Val Loss = 0.8405\n",
      "---| SAVING CHECKPOINT TO DISK |---\n",
      "Epoch took 6.0 minutes\n",
      "---------------------------------------------------------------\n",
      "10: 0.9427691102027893\n",
      "---| VALIDATING EPOCH #8 |---\n",
      "3: 0.6327502727508545\n",
      "\n",
      "Epoch 8/30: Train Loss = 0.9290, Val Loss = 0.8327\n",
      "---| SAVING CHECKPOINT TO DISK |---\n",
      "Epoch took 6.0 minutes\n",
      "---------------------------------------------------------------\n",
      "10: 1.0603564977645874\n",
      "---| VALIDATING EPOCH #9 |---\n",
      "3: 1.0184234380722046\n",
      "\n",
      "Epoch 9/30: Train Loss = 0.9826, Val Loss = 0.8466\n",
      "Epoch took 6.0 minutes\n",
      "---------------------------------------------------------------\n",
      "10: 0.843994140625\n",
      "---| VALIDATING EPOCH #10 |---\n",
      "3: 0.919826865196228\n",
      "\n",
      "Epoch 10/30: Train Loss = 0.9816, Val Loss = 0.8214\n",
      "---| SAVING CHECKPOINT TO DISK |---\n",
      "Epoch took 6.0 minutes\n",
      "---------------------------------------------------------------\n",
      "10: 0.9473017454147339\n",
      "---| VALIDATING EPOCH #11 |---\n",
      "3: 0.8513312935829163\n",
      "\n",
      "Epoch 11/30: Train Loss = 1.0134, Val Loss = 0.8401\n",
      "Epoch took 6.0 minutes\n",
      "---------------------------------------------------------------\n",
      "10: 1.5376094579696655\n",
      "---| VALIDATING EPOCH #12 |---\n",
      "3: 0.8681681752204895\n",
      "\n",
      "Epoch 12/30: Train Loss = 0.9777, Val Loss = 0.8364\n",
      "Epoch took 5.0 minutes\n",
      "---------------------------------------------------------------\n",
      "10: 0.9414259195327759\n",
      "---| VALIDATING EPOCH #13 |---\n",
      "3: 0.82100510597229\n",
      "\n",
      "Epoch 13/30: Train Loss = 0.9781, Val Loss = 0.8626\n",
      "Epoch took 6.0 minutes\n",
      "---------------------------------------------------------------\n",
      "10: 1.023401141166687\n",
      "---| VALIDATING EPOCH #14 |---\n",
      "3: 1.0950114727020264\n",
      "\n",
      "Epoch 14/30: Train Loss = 0.9838, Val Loss = 0.8632\n",
      "Epoch took 5.0 minutes\n",
      "---------------------------------------------------------------\n",
      "10: 0.8347910642623901\n",
      "---| VALIDATING EPOCH #15 |---\n",
      "3: 0.654172956943512\n",
      "\n",
      "Epoch 15/30: Train Loss = 0.9696, Val Loss = 0.8349\n",
      "Epoch took 6.0 minutes\n",
      "---------------------------------------------------------------\n",
      "10: 0.9972487688064575\n",
      "---| VALIDATING EPOCH #16 |---\n",
      "3: 0.9486719965934753\n",
      "\n",
      "Epoch 16/30: Train Loss = 0.9561, Val Loss = 0.8158\n",
      "---| SAVING CHECKPOINT TO DISK |---\n",
      "Epoch took 6.0 minutes\n",
      "---------------------------------------------------------------\n",
      "10: 1.0648542642593384\n",
      "---| VALIDATING EPOCH #17 |---\n",
      "3: 0.7910388708114624\n",
      "\n",
      "Epoch 17/30: Train Loss = 0.9452, Val Loss = 0.8293\n",
      "Epoch took 6.0 minutes\n",
      "---------------------------------------------------------------\n",
      "10: 1.0437901020050049\n",
      "---| VALIDATING EPOCH #18 |---\n",
      "3: 0.746353805065155\n",
      "\n",
      "Epoch 18/30: Train Loss = 0.9541, Val Loss = 0.8638\n",
      "Epoch took 6.0 minutes\n",
      "---------------------------------------------------------------\n",
      "10: 0.8938971161842346\n",
      "---| VALIDATING EPOCH #19 |---\n",
      "3: 0.9030438661575317\n",
      "\n",
      "Epoch 19/30: Train Loss = 0.9326, Val Loss = 0.8480\n",
      "Epoch took 6.0 minutes\n",
      "---------------------------------------------------------------\n",
      "10: 0.9066097736358643\n",
      "---| VALIDATING EPOCH #20 |---\n",
      "3: 0.9572398662567139\n",
      "\n",
      "Epoch 20/30: Train Loss = 0.9503, Val Loss = 0.8165\n",
      "Epoch took 6.0 minutes\n",
      "---------------------------------------------------------------\n",
      "10: 1.1881910562515259\n",
      "---| VALIDATING EPOCH #21 |---\n",
      "3: 0.9560079574584961\n",
      "\n",
      "Epoch 21/30: Train Loss = 0.9729, Val Loss = 0.8205\n",
      "Epoch took 6.0 minutes\n",
      "---------------------------------------------------------------\n",
      "10: 1.0229456424713135\n",
      "---| VALIDATING EPOCH #22 |---\n",
      "3: 0.7791174650192261\n",
      "\n",
      "Epoch 22/30: Train Loss = 1.0213, Val Loss = 0.8418\n",
      "Epoch took 6.0 minutes\n",
      "---------------------------------------------------------------\n",
      "10: 0.8940569758415222\n",
      "---| VALIDATING EPOCH #23 |---\n",
      "3: 0.847406268119812\n",
      "\n",
      "Epoch 23/30: Train Loss = 1.0089, Val Loss = 0.8407\n",
      "Epoch took 5.0 minutes\n",
      "---------------------------------------------------------------\n",
      "10: 1.1025408506393433\n",
      "---| VALIDATING EPOCH #24 |---\n",
      "3: 1.0222084522247314\n",
      "\n",
      "Epoch 24/30: Train Loss = 0.9175, Val Loss = 0.8485\n",
      "Epoch took 5.0 minutes\n",
      "---------------------------------------------------------------\n",
      "10: 1.307063102722168\n",
      "---| VALIDATING EPOCH #25 |---\n",
      "3: 0.9185869693756104\n",
      "\n",
      "Epoch 25/30: Train Loss = 0.9940, Val Loss = 0.8384\n",
      "Epoch took 5.0 minutes\n",
      "---------------------------------------------------------------\n",
      "10: 0.6769651770591736\n",
      "---| VALIDATING EPOCH #26 |---\n",
      "3: 0.9862154722213745\n",
      "\n",
      "Epoch 26/30: Train Loss = 0.9704, Val Loss = 0.8326\n",
      "Epoch took 5.0 minutes\n",
      "---------------------------------------------------------------\n",
      "10: 0.9543169736862183\n",
      "---| VALIDATING EPOCH #27 |---\n",
      "3: 1.0407438278198242\n",
      "\n",
      "Epoch 27/30: Train Loss = 0.9290, Val Loss = 0.8384\n",
      "Epoch took 4.0 minutes\n",
      "---------------------------------------------------------------\n",
      "10: 1.0539779663085938\n",
      "---| VALIDATING EPOCH #28 |---\n",
      "3: 1.2940369844436646\n",
      "\n",
      "Epoch 28/30: Train Loss = 0.9114, Val Loss = 0.8504\n",
      "Epoch took 5.0 minutes\n",
      "---------------------------------------------------------------\n",
      "10: 1.7056255340576172\n",
      "---| VALIDATING EPOCH #29 |---\n",
      "3: 0.7456529140472412\n",
      "\n",
      "Epoch 29/30: Train Loss = 0.9407, Val Loss = 0.8631\n",
      "Epoch took 4.0 minutes\n",
      "---------------------------------------------------------------\n",
      "10: 0.8890055418014526\n",
      "---| VALIDATING EPOCH #30 |---\n",
      "3: 1.0220087766647339\n",
      "\n",
      "Epoch 30/30: Train Loss = 0.9996, Val Loss = 0.8487\n",
      "Epoch took 4.0 minutes\n",
      "---------------------------------------------------------------\n"
     ]
    }
   ],
   "source": [
    "import timeit\n",
    "# Train the model\n",
    "num_epochs = 30\n",
    "\n",
    "best_val_loss = float('inf')\n",
    "All_train_loss = []\n",
    "All_val_loss = []\n",
    "\n",
    "for epoch in range(num_epochs):\n",
    "    start_time = timeit.default_timer()\n",
    "    \n",
    "    # Train the model on the training set\n",
    "    total_train_loss = 0\n",
    "    model.train()\n",
    "    _batch = 0\n",
    "    for images, labels in train_dataloader:\n",
    "        images = images.to(device)\n",
    "        labels = labels.to(device)\n",
    "        # Zero the parameter gradients\n",
    "        optimizer.zero_grad()\n",
    "        \n",
    "        # Forward pass\n",
    "        #take argmax of the logits before computing the loss?\n",
    "        outputs = model(images)\n",
    "        #logits = outputs.logits\n",
    "        loss = criterion(outputs, labels)\n",
    "        total_train_loss += loss * images.shape[0]\n",
    "        _batch += 1\n",
    "        if _batch % 10 == 0:\n",
    "            with open('eyepacs_results/finetune_run_log.txt', 'a') as logfile:\n",
    "                logfile.write(f\"{_batch}: {loss}\\n\")\n",
    "            print(f\"{_batch}: {loss}\")\n",
    "        # Backward and optimize\n",
    "        loss.backward()\n",
    "        optimizer.step()\n",
    "    \n",
    "    # Evaluate the model on the validation set\n",
    "    print(f\"---| VALIDATING EPOCH #{epoch+1} |---\")\n",
    "    with open('eyepacs_results/finetune_run_log.txt', 'a') as logfile:\n",
    "        logfile.write(f\"---| VALIDATING EPOCH #{epoch+1} |---\\n\")\n",
    "    model.eval()\n",
    "    with torch.no_grad():\n",
    "        total_val_loss = 0.0\n",
    "        correct = 0\n",
    "        total = 0\n",
    "        _batch = 0\n",
    "        for images, labels in val_dataloader:\n",
    "            images = images.to(device)\n",
    "            labels = labels.to(device)\n",
    "            outputs = model(images)\n",
    "            #logits = outputs.logits\n",
    "            #take argmax of the logits before computing the loss \n",
    "            #outputs = outputs.softmax(dim=1)\n",
    "            val_loss = criterion(outputs, labels)\n",
    "            _batch += 1\n",
    "            if _batch % 3 == 0:\n",
    "                with open('eyepacs_results/finetune_run_log.txt', 'a') as logfile:\n",
    "                    logfile.write(f\"{_batch}: {val_loss}\\n\")\n",
    "                print(f\"{_batch}: {val_loss}\")\n",
    "            total_val_loss += val_loss.item() * images.shape[0]\n",
    "            #take argmax of the logits before computing the loss \n",
    "            predicted = torch.argmax(outputs, 1) #did torch.argmax instead of torch.max\n",
    "            total += labels.size(0)\n",
    "            correct += (predicted == labels).sum()\n",
    "    avg_train_loss = total_train_loss/330\n",
    "    avg_val_loss = total_val_loss/83\n",
    "    print()\n",
    "    print(f\"Epoch {epoch+1}/{num_epochs}: Train Loss = {avg_train_loss:.4f}, Val Loss = {avg_val_loss:.4f}\")\n",
    "    with open('eyepacs_results/finetune_run_log.txt', 'a') as logfile:\n",
    "        logfile.write(f\"\\nEpoch {epoch+1}/{num_epochs}: Train Loss = {avg_train_loss:.4f}, Val Loss = {avg_val_loss:.4f}\\n\")\n",
    "    All_train_loss.append(avg_train_loss.cpu())\n",
    "    All_val_loss.append(avg_val_loss)\n",
    "    \n",
    "    if avg_val_loss < best_val_loss:\n",
    "        print(\"---| SAVING CHECKPOINT TO DISK |---\")\n",
    "        with open('eyepacs_results/finetune_run_log.txt', 'a') as logfile:\n",
    "            logfile.write(\"---| SAVING CHECKPOINT TO DISK |---\\n\")\n",
    "        best_val_loss = avg_val_loss\n",
    "        torch.save(model.state_dict(), 'eyepacs_results/finetune_best.pt')\n",
    "    \n",
    "    elapsed = timeit.default_timer() - start_time\n",
    "    print(\"Epoch took\", str(elapsed//60), \"minutes\")\n",
    "    print(\"---------------------------------------------------------------\")\n",
    "    with open('eyepacs_results/finetune_run_log.txt', 'a') as logfile:\n",
    "        logfile.write(\"Epoch took \" + str(elapsed//60) + \" minutes\\n\")\n",
    "        logfile.write(\"---------------------------------------------------------------\\n\")\n",
    "\n",
    "torch.save(model.state_dict(), 'eyepacs_results/finetune_last.pt')"
   ]
  },
  {
   "cell_type": "code",
   "execution_count": 29,
   "id": "600e4fc6-4349-4657-b57c-3b0dc2cdcb1c",
   "metadata": {
    "tags": []
   },
   "outputs": [],
   "source": [
    "NAll_train_loss = []\n",
    "for x in All_train_loss:\n",
    "    NAll_train_loss.append(x.detach().numpy() if isinstance(x, torch.Tensor) else x)\n",
    "\n",
    "NAll_val_loss = np.array(All_val_loss)\n",
    "np.savetxt(\"eyepacs_results/eyepacs_idrid_finetune_adam_train_loss.txt\", NAll_train_loss)\n",
    "np.savetxt(\"eyepacs_results/eyepacs_idrid_finetune_adam_val_loss.txt\", NAll_val_loss)"
   ]
  },
  {
   "cell_type": "code",
   "execution_count": 30,
   "id": "0f872ca1-6c71-4189-87d8-6717e92177ae",
   "metadata": {
    "tags": []
   },
   "outputs": [
    {
     "data": {
      "image/png": "[encoded data removed]",
      "text/plain": [
       "<Figure size 640x480 with 1 Axes>"
      ]
     },
     "metadata": {},
     "output_type": "display_data"
    }
   ],
   "source": [
    "plt.plot(NAll_train_loss, label='Training Loss')\n",
    "plt.plot(NAll_val_loss,label='Validation Loss')\n",
    "plt.legend()\n",
    "plt.show\n",
    "plt.savefig('eyepacs_results/eyepacs_idrid_finetune_adam_trainLossValLoss.png')"
   ]
  },
  {
   "cell_type": "code",
   "execution_count": 31,
   "id": "45f4cb49-168f-4d34-a57e-fab51f319b78",
   "metadata": {
    "tags": []
   },
   "outputs": [],
   "source": [
    "### Testing             \n",
    "from sklearn.metrics import accuracy_score, f1_score, cohen_kappa_score\n",
    "\n",
    "#model = TransferInceptionV3()\n",
    "#model.load_state_dict(torch.load('idrid_best_adam.pt'))\n",
    "#model = model.to(torch.cuda.current_device())\n",
    "\n",
    "# Evaluate the model on the test set\n",
    "model.eval()\n",
    "with torch.no_grad():\n",
    "    y_true = []\n",
    "    y_pred = []\n",
    "    for images, labels in test_dataloader:\n",
    "        images = images.to(device)\n",
    "        labels = labels.to(device)\n",
    "        outputs = model(images)\n",
    "        predicted = torch.argmax(outputs, 1)\n",
    "        y_true.extend(labels.cpu())\n",
    "        y_pred.extend(predicted.cpu())\n",
    "\n",
    "# Compute the accuracy and F1 score\n",
    "accuracy = accuracy_score(y_true, y_pred)\n",
    "f1 = f1_score(y_true, y_pred, average='weighted')\n",
    "kappa = cohen_kappa_score(y_true, y_pred)"
   ]
  },
  {
   "cell_type": "code",
   "execution_count": 32,
   "id": "88fcdc4e-c571-4ab5-8b56-e02549af05ab",
   "metadata": {
    "tags": []
   },
   "outputs": [
    {
     "name": "stdout",
     "output_type": "stream",
     "text": [
      "Test Accuracy: 0.5631\n",
      "Test F1 Score: 0.5377\n",
      "kappa score: 0.405006\n"
     ]
    }
   ],
   "source": [
    "print(f'Test Accuracy: {accuracy:.4f}')\n",
    "print(f'Test F1 Score: {f1:.4f}')\n",
    "print(f'kappa score: {kappa:4f}')"
   ]
  },
  {
   "cell_type": "code",
   "execution_count": 33,
   "id": "0d4aa590-0829-4488-8aaf-ff9c400b029e",
   "metadata": {
    "tags": []
   },
   "outputs": [
    {
     "name": "stdout",
     "output_type": "stream",
     "text": [
      "[[32  0  1  1  0]\n",
      " [ 3  1  1  0  0]\n",
      " [10  1 11 10  0]\n",
      " [ 2  0  2  9  6]\n",
      " [ 2  0  2  4  5]]\n",
      "              precision    recall  f1-score   support\n",
      "\n",
      "           0      0.653     0.941     0.771        34\n",
      "           1      0.500     0.200     0.286         5\n",
      "           2      0.647     0.344     0.449        32\n",
      "           3      0.375     0.474     0.419        19\n",
      "           4      0.455     0.385     0.417        13\n",
      "\n",
      "    accuracy                          0.563       103\n",
      "   macro avg      0.526     0.469     0.468       103\n",
      "weighted avg      0.567     0.563     0.538       103\n",
      "\n"
     ]
    }
   ],
   "source": [
    "from sklearn import metrics\n",
    "# Print the confusion matrix\n",
    "print(metrics.confusion_matrix(y_true, y_pred))\n",
    "\n",
    "# Print the precision and recall, among other metrics\n",
    "print(metrics.classification_report(y_true, y_pred, digits=3))"
   ]
  },
  {
   "cell_type": "markdown",
   "id": "fabebcb0-0178-4692-bdb8-700b3ef68218",
   "metadata": {
    "tags": []
   },
   "source": [
    "## Evaluation on EyePACS"
   ]
  },
  {
   "cell_type": "code",
   "execution_count": 44,
   "id": "20c6ed71-d5c6-4283-9975-2e00be58e54a",
   "metadata": {
    "tags": []
   },
   "outputs": [],
   "source": [
    "class EyePACSImageDataset(Dataset):\n",
    "    def __init__(self, csv_file, img_dir, transform=None, target_transform=None):\n",
    "        self.img_labels = pd.read_csv(csv_file)\n",
    "        self.img_dir = img_dir\n",
    "        self.transform = transform\n",
    "        self.target_transform = target_transform\n",
    "\n",
    "    def __len__(self):\n",
    "        return len(self.img_labels)\n",
    "\n",
    "    def __getitem__(self, idx):\n",
    "        img_path = os.path.join(self.img_dir, self.img_labels.iloc[idx, 0]+'.jpeg')\n",
    "        image = read_image(img_path)\n",
    "        label = self.img_labels.iloc[idx, 1]\n",
    "        if self.transform:\n",
    "            image = self.transform(image)\n",
    "        if self.target_transform:\n",
    "            label = self.target_transform(label)\n",
    "        return image, label"
   ]
  },
  {
   "cell_type": "code",
   "execution_count": 45,
   "id": "fae98ab7-3efe-4cd4-bb98-76b2182907c7",
   "metadata": {
    "tags": []
   },
   "outputs": [],
   "source": [
    "eyePACS_test = EyePACSImageDataset(csv_file='EyePACS/test.csv',\n",
    "                             img_dir='EyePACS/eyepacs_preprocess/eyepacs_preprocess',\n",
    "                             transform=transforms.Compose([transforms.ToPILImage(),\n",
    "                                                           transforms.ToTensor(),\n",
    "                                                           transforms.Normalize(mean=[0.411,0.285,0.202],\n",
    "                                                                               std=[0.495,0.349,0.261]),\n",
    "                                                           transforms.Resize((512,512))\n",
    "                                                          ])\n",
    "                            )"
   ]
  },
  {
   "cell_type": "code",
   "execution_count": 46,
   "id": "49211a78-974e-4749-b3ae-3c64a4b0ff6e",
   "metadata": {
    "tags": []
   },
   "outputs": [],
   "source": [
    "eyepacs_test_dataloader = DataLoader(eyePACS_test, batch_size=128, shuffle=True)"
   ]
  },
  {
   "cell_type": "code",
   "execution_count": 47,
   "id": "1e085fa6-2173-463e-9130-997f3835745f",
   "metadata": {},
   "outputs": [
    {
     "data": {
      "text/plain": [
       "<All keys matched successfully>"
      ]
     },
     "execution_count": 47,
     "metadata": {},
     "output_type": "execute_result"
    }
   ],
   "source": [
    "model.load_state_dict(torch.load('eyepacs_results/finetune_2_50/finetune_best.pt'))"
   ]
  },
  {
   "cell_type": "code",
   "execution_count": 48,
   "id": "0d812376-5857-4cad-8d1f-ba0cf3e275fa",
   "metadata": {
    "tags": []
   },
   "outputs": [
    {
     "name": "stderr",
     "output_type": "stream",
     "text": [
      "/home/mainuser/.local/lib/python3.8/site-packages/torchvision/transforms/functional.py:1603: UserWarning: The default value of the antialias parameter of all the resizing transforms (Resize(), RandomResizedCrop(), etc.) will change from None to True in v0.17, in order to be consistent across the PIL and Tensor backends. To suppress this warning, directly pass antialias=True (recommended, future default), antialias=None (current default, which means False for Tensors and True for PIL), or antialias=False (only works on Tensors - PIL will still use antialiasing). This also applies if you are using the inference transforms from the models weights: update the call to weights.transforms(antialias=True).\n",
      "  warnings.warn(\n"
     ]
    }
   ],
   "source": [
    "# Evaluate the model on the test set\n",
    "model.eval()\n",
    "with torch.no_grad():\n",
    "    e_y_true = []\n",
    "    e_y_pred = []\n",
    "    for images, labels in eyepacs_test_dataloader:\n",
    "        images = images.to(device)\n",
    "        labels = labels.to(device)\n",
    "        outputs = model(images)\n",
    "        predicted = torch.argmax(outputs, 1)\n",
    "        e_y_true.extend(labels.cpu())\n",
    "        e_y_pred.extend(predicted.cpu())\n",
    "\n",
    "# Compute the accuracy and F1 score\n",
    "accuracy = accuracy_score(e_y_true, e_y_pred)\n",
    "f1 = f1_score(e_y_true, e_y_pred, average='weighted')\n",
    "kappa = cohen_kappa_score(e_y_true, e_y_pred)"
   ]
  },
  {
   "cell_type": "code",
   "execution_count": 49,
   "id": "5944aed9-8ac7-40cd-b827-73ca0d824b5d",
   "metadata": {
    "tags": []
   },
   "outputs": [
    {
     "name": "stdout",
     "output_type": "stream",
     "text": [
      "Test Accuracy: 0.0202\n",
      "Test F1 Score: 0.0008\n",
      "kappa score: -0.000001\n"
     ]
    }
   ],
   "source": [
    "print(f'Test Accuracy: {accuracy:.4f}')\n",
    "print(f'Test F1 Score: {f1:.4f}')\n",
    "print(f'kappa score: {kappa:4f}')"
   ]
  },
  {
   "cell_type": "code",
   "execution_count": 42,
   "id": "fd4b801b-ae8a-4d47-9caa-ede0f76a7f1a",
   "metadata": {
    "tags": []
   },
   "outputs": [
    {
     "name": "stdout",
     "output_type": "stream",
     "text": [
      "[[26  0  8  0  0]\n",
      " [ 3  0  2  0  0]\n",
      " [ 7  1 19  5  0]\n",
      " [ 2  0  5  7  5]\n",
      " [ 2  0  4  4  3]]\n",
      "              precision    recall  f1-score   support\n",
      "\n",
      "           0      0.650     0.765     0.703        34\n",
      "           1      0.000     0.000     0.000         5\n",
      "           2      0.500     0.594     0.543        32\n",
      "           3      0.438     0.368     0.400        19\n",
      "           4      0.375     0.231     0.286        13\n",
      "\n",
      "    accuracy                          0.534       103\n",
      "   macro avg      0.392     0.392     0.386       103\n",
      "weighted avg      0.498     0.534     0.510       103\n",
      "\n"
     ]
    }
   ],
   "source": [
    "from sklearn import metrics\n",
    "# Print the confusion matrix\n",
    "print(metrics.confusion_matrix(e_y_true, e_y_pred))\n",
    "\n",
    "# Print the precision and recall, among other metrics\n",
    "print(metrics.classification_report(e_y_true, e_y_pred, digits=3))"
   ]
  },
  {
   "cell_type": "code",
   "execution_count": null,
   "id": "128d874f-e4be-4649-884d-61513505c06a",
   "metadata": {},
   "outputs": [],
   "source": []
  }
 ],
 "metadata": {
  "kernelspec": {
   "display_name": "Python 3 (ipykernel)",
   "language": "python",
   "name": "python3"
  },
  "language_info": {
   "codemirror_mode": {
    "name": "ipython",
    "version": 3
   },
   "file_extension": ".py",
   "mimetype": "text/x-python",
   "name": "python",
   "nbconvert_exporter": "python",
   "pygments_lexer": "ipython3",
   "version": "3.8.10"
  }
 },
 "nbformat": 4,
 "nbformat_minor": 5
}
